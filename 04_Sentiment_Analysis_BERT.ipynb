{
  "nbformat": 4,
  "nbformat_minor": 0,
  "metadata": {
    "colab": {
      "name": "04 Sentiment Analysis BERT.ipynb",
      "provenance": [],
      "toc_visible": true,
      "authorship_tag": "ABX9TyPJeZkLPlZDgtjxheo+Dr9V",
      "include_colab_link": true
    },
    "kernelspec": {
      "name": "python3",
      "display_name": "Python 3"
    },
    "language_info": {
      "name": "python"
    },
    "gpuClass": "standard",
    "widgets": {
      "application/vnd.jupyter.widget-state+json": {
        "4edf0a35ed904c0eb5f91feba05c36bb": {
          "model_module": "@jupyter-widgets/controls",
          "model_name": "HBoxModel",
          "model_module_version": "1.5.0",
          "state": {
            "_dom_classes": [],
            "_model_module": "@jupyter-widgets/controls",
            "_model_module_version": "1.5.0",
            "_model_name": "HBoxModel",
            "_view_count": null,
            "_view_module": "@jupyter-widgets/controls",
            "_view_module_version": "1.5.0",
            "_view_name": "HBoxView",
            "box_style": "",
            "children": [
              "IPY_MODEL_c1cc5d6929e449bfa273abe372edccde",
              "IPY_MODEL_383342f56cb64689b61d71b9d8121890",
              "IPY_MODEL_538393ef92bb4777ae40d234f5339737"
            ],
            "layout": "IPY_MODEL_70ed9571e00f490da4a1d7b16843c9eb"
          }
        },
        "c1cc5d6929e449bfa273abe372edccde": {
          "model_module": "@jupyter-widgets/controls",
          "model_name": "HTMLModel",
          "model_module_version": "1.5.0",
          "state": {
            "_dom_classes": [],
            "_model_module": "@jupyter-widgets/controls",
            "_model_module_version": "1.5.0",
            "_model_name": "HTMLModel",
            "_view_count": null,
            "_view_module": "@jupyter-widgets/controls",
            "_view_module_version": "1.5.0",
            "_view_name": "HTMLView",
            "description": "",
            "description_tooltip": null,
            "layout": "IPY_MODEL_64af93659e3645409f23e16bb28885ca",
            "placeholder": "​",
            "style": "IPY_MODEL_dd4f5906b0b34b359991c4d8643532d3",
            "value": "Downloading: 100%"
          }
        },
        "383342f56cb64689b61d71b9d8121890": {
          "model_module": "@jupyter-widgets/controls",
          "model_name": "FloatProgressModel",
          "model_module_version": "1.5.0",
          "state": {
            "_dom_classes": [],
            "_model_module": "@jupyter-widgets/controls",
            "_model_module_version": "1.5.0",
            "_model_name": "FloatProgressModel",
            "_view_count": null,
            "_view_module": "@jupyter-widgets/controls",
            "_view_module_version": "1.5.0",
            "_view_name": "ProgressView",
            "bar_style": "success",
            "description": "",
            "description_tooltip": null,
            "layout": "IPY_MODEL_8193cab6ba9c4105b378f33fe86bd877",
            "max": 213450,
            "min": 0,
            "orientation": "horizontal",
            "style": "IPY_MODEL_97d5c3595f5c48bd90189c2984d1e53b",
            "value": 213450
          }
        },
        "538393ef92bb4777ae40d234f5339737": {
          "model_module": "@jupyter-widgets/controls",
          "model_name": "HTMLModel",
          "model_module_version": "1.5.0",
          "state": {
            "_dom_classes": [],
            "_model_module": "@jupyter-widgets/controls",
            "_model_module_version": "1.5.0",
            "_model_name": "HTMLModel",
            "_view_count": null,
            "_view_module": "@jupyter-widgets/controls",
            "_view_module_version": "1.5.0",
            "_view_name": "HTMLView",
            "description": "",
            "description_tooltip": null,
            "layout": "IPY_MODEL_131b83225c7c49b2a080f0fc25c8dcbb",
            "placeholder": "​",
            "style": "IPY_MODEL_84dd13f3a0c94bcbbcd4389c3a43391e",
            "value": " 208k/208k [00:00&lt;00:00, 667kB/s]"
          }
        },
        "70ed9571e00f490da4a1d7b16843c9eb": {
          "model_module": "@jupyter-widgets/base",
          "model_name": "LayoutModel",
          "model_module_version": "1.2.0",
          "state": {
            "_model_module": "@jupyter-widgets/base",
            "_model_module_version": "1.2.0",
            "_model_name": "LayoutModel",
            "_view_count": null,
            "_view_module": "@jupyter-widgets/base",
            "_view_module_version": "1.2.0",
            "_view_name": "LayoutView",
            "align_content": null,
            "align_items": null,
            "align_self": null,
            "border": null,
            "bottom": null,
            "display": null,
            "flex": null,
            "flex_flow": null,
            "grid_area": null,
            "grid_auto_columns": null,
            "grid_auto_flow": null,
            "grid_auto_rows": null,
            "grid_column": null,
            "grid_gap": null,
            "grid_row": null,
            "grid_template_areas": null,
            "grid_template_columns": null,
            "grid_template_rows": null,
            "height": null,
            "justify_content": null,
            "justify_items": null,
            "left": null,
            "margin": null,
            "max_height": null,
            "max_width": null,
            "min_height": null,
            "min_width": null,
            "object_fit": null,
            "object_position": null,
            "order": null,
            "overflow": null,
            "overflow_x": null,
            "overflow_y": null,
            "padding": null,
            "right": null,
            "top": null,
            "visibility": null,
            "width": null
          }
        },
        "64af93659e3645409f23e16bb28885ca": {
          "model_module": "@jupyter-widgets/base",
          "model_name": "LayoutModel",
          "model_module_version": "1.2.0",
          "state": {
            "_model_module": "@jupyter-widgets/base",
            "_model_module_version": "1.2.0",
            "_model_name": "LayoutModel",
            "_view_count": null,
            "_view_module": "@jupyter-widgets/base",
            "_view_module_version": "1.2.0",
            "_view_name": "LayoutView",
            "align_content": null,
            "align_items": null,
            "align_self": null,
            "border": null,
            "bottom": null,
            "display": null,
            "flex": null,
            "flex_flow": null,
            "grid_area": null,
            "grid_auto_columns": null,
            "grid_auto_flow": null,
            "grid_auto_rows": null,
            "grid_column": null,
            "grid_gap": null,
            "grid_row": null,
            "grid_template_areas": null,
            "grid_template_columns": null,
            "grid_template_rows": null,
            "height": null,
            "justify_content": null,
            "justify_items": null,
            "left": null,
            "margin": null,
            "max_height": null,
            "max_width": null,
            "min_height": null,
            "min_width": null,
            "object_fit": null,
            "object_position": null,
            "order": null,
            "overflow": null,
            "overflow_x": null,
            "overflow_y": null,
            "padding": null,
            "right": null,
            "top": null,
            "visibility": null,
            "width": null
          }
        },
        "dd4f5906b0b34b359991c4d8643532d3": {
          "model_module": "@jupyter-widgets/controls",
          "model_name": "DescriptionStyleModel",
          "model_module_version": "1.5.0",
          "state": {
            "_model_module": "@jupyter-widgets/controls",
            "_model_module_version": "1.5.0",
            "_model_name": "DescriptionStyleModel",
            "_view_count": null,
            "_view_module": "@jupyter-widgets/base",
            "_view_module_version": "1.2.0",
            "_view_name": "StyleView",
            "description_width": ""
          }
        },
        "8193cab6ba9c4105b378f33fe86bd877": {
          "model_module": "@jupyter-widgets/base",
          "model_name": "LayoutModel",
          "model_module_version": "1.2.0",
          "state": {
            "_model_module": "@jupyter-widgets/base",
            "_model_module_version": "1.2.0",
            "_model_name": "LayoutModel",
            "_view_count": null,
            "_view_module": "@jupyter-widgets/base",
            "_view_module_version": "1.2.0",
            "_view_name": "LayoutView",
            "align_content": null,
            "align_items": null,
            "align_self": null,
            "border": null,
            "bottom": null,
            "display": null,
            "flex": null,
            "flex_flow": null,
            "grid_area": null,
            "grid_auto_columns": null,
            "grid_auto_flow": null,
            "grid_auto_rows": null,
            "grid_column": null,
            "grid_gap": null,
            "grid_row": null,
            "grid_template_areas": null,
            "grid_template_columns": null,
            "grid_template_rows": null,
            "height": null,
            "justify_content": null,
            "justify_items": null,
            "left": null,
            "margin": null,
            "max_height": null,
            "max_width": null,
            "min_height": null,
            "min_width": null,
            "object_fit": null,
            "object_position": null,
            "order": null,
            "overflow": null,
            "overflow_x": null,
            "overflow_y": null,
            "padding": null,
            "right": null,
            "top": null,
            "visibility": null,
            "width": null
          }
        },
        "97d5c3595f5c48bd90189c2984d1e53b": {
          "model_module": "@jupyter-widgets/controls",
          "model_name": "ProgressStyleModel",
          "model_module_version": "1.5.0",
          "state": {
            "_model_module": "@jupyter-widgets/controls",
            "_model_module_version": "1.5.0",
            "_model_name": "ProgressStyleModel",
            "_view_count": null,
            "_view_module": "@jupyter-widgets/base",
            "_view_module_version": "1.2.0",
            "_view_name": "StyleView",
            "bar_color": null,
            "description_width": ""
          }
        },
        "131b83225c7c49b2a080f0fc25c8dcbb": {
          "model_module": "@jupyter-widgets/base",
          "model_name": "LayoutModel",
          "model_module_version": "1.2.0",
          "state": {
            "_model_module": "@jupyter-widgets/base",
            "_model_module_version": "1.2.0",
            "_model_name": "LayoutModel",
            "_view_count": null,
            "_view_module": "@jupyter-widgets/base",
            "_view_module_version": "1.2.0",
            "_view_name": "LayoutView",
            "align_content": null,
            "align_items": null,
            "align_self": null,
            "border": null,
            "bottom": null,
            "display": null,
            "flex": null,
            "flex_flow": null,
            "grid_area": null,
            "grid_auto_columns": null,
            "grid_auto_flow": null,
            "grid_auto_rows": null,
            "grid_column": null,
            "grid_gap": null,
            "grid_row": null,
            "grid_template_areas": null,
            "grid_template_columns": null,
            "grid_template_rows": null,
            "height": null,
            "justify_content": null,
            "justify_items": null,
            "left": null,
            "margin": null,
            "max_height": null,
            "max_width": null,
            "min_height": null,
            "min_width": null,
            "object_fit": null,
            "object_position": null,
            "order": null,
            "overflow": null,
            "overflow_x": null,
            "overflow_y": null,
            "padding": null,
            "right": null,
            "top": null,
            "visibility": null,
            "width": null
          }
        },
        "84dd13f3a0c94bcbbcd4389c3a43391e": {
          "model_module": "@jupyter-widgets/controls",
          "model_name": "DescriptionStyleModel",
          "model_module_version": "1.5.0",
          "state": {
            "_model_module": "@jupyter-widgets/controls",
            "_model_module_version": "1.5.0",
            "_model_name": "DescriptionStyleModel",
            "_view_count": null,
            "_view_module": "@jupyter-widgets/base",
            "_view_module_version": "1.2.0",
            "_view_name": "StyleView",
            "description_width": ""
          }
        },
        "fb30969f59dc4decaa37afa63cef28a0": {
          "model_module": "@jupyter-widgets/controls",
          "model_name": "HBoxModel",
          "model_module_version": "1.5.0",
          "state": {
            "_dom_classes": [],
            "_model_module": "@jupyter-widgets/controls",
            "_model_module_version": "1.5.0",
            "_model_name": "HBoxModel",
            "_view_count": null,
            "_view_module": "@jupyter-widgets/controls",
            "_view_module_version": "1.5.0",
            "_view_name": "HBoxView",
            "box_style": "",
            "children": [
              "IPY_MODEL_58a39159dc07456988d6624e04e44d21",
              "IPY_MODEL_be19660ad5f948b9962ffff8457574c8",
              "IPY_MODEL_1b7c03fff4444773b77e7a4e950efc41"
            ],
            "layout": "IPY_MODEL_1e012a88e972400ca5565788e6ea4305"
          }
        },
        "58a39159dc07456988d6624e04e44d21": {
          "model_module": "@jupyter-widgets/controls",
          "model_name": "HTMLModel",
          "model_module_version": "1.5.0",
          "state": {
            "_dom_classes": [],
            "_model_module": "@jupyter-widgets/controls",
            "_model_module_version": "1.5.0",
            "_model_name": "HTMLModel",
            "_view_count": null,
            "_view_module": "@jupyter-widgets/controls",
            "_view_module_version": "1.5.0",
            "_view_name": "HTMLView",
            "description": "",
            "description_tooltip": null,
            "layout": "IPY_MODEL_3d3c0898bbd741a79a4a461f56db52d6",
            "placeholder": "​",
            "style": "IPY_MODEL_61492b349913445fbf40f03844124590",
            "value": "Downloading: 100%"
          }
        },
        "be19660ad5f948b9962ffff8457574c8": {
          "model_module": "@jupyter-widgets/controls",
          "model_name": "FloatProgressModel",
          "model_module_version": "1.5.0",
          "state": {
            "_dom_classes": [],
            "_model_module": "@jupyter-widgets/controls",
            "_model_module_version": "1.5.0",
            "_model_name": "FloatProgressModel",
            "_view_count": null,
            "_view_module": "@jupyter-widgets/controls",
            "_view_module_version": "1.5.0",
            "_view_name": "ProgressView",
            "bar_style": "success",
            "description": "",
            "description_tooltip": null,
            "layout": "IPY_MODEL_fa2aa6880bcf4bee82453f5a8728935d",
            "max": 29,
            "min": 0,
            "orientation": "horizontal",
            "style": "IPY_MODEL_83467cd81a8247388bd5e1118b6454ab",
            "value": 29
          }
        },
        "1b7c03fff4444773b77e7a4e950efc41": {
          "model_module": "@jupyter-widgets/controls",
          "model_name": "HTMLModel",
          "model_module_version": "1.5.0",
          "state": {
            "_dom_classes": [],
            "_model_module": "@jupyter-widgets/controls",
            "_model_module_version": "1.5.0",
            "_model_name": "HTMLModel",
            "_view_count": null,
            "_view_module": "@jupyter-widgets/controls",
            "_view_module_version": "1.5.0",
            "_view_name": "HTMLView",
            "description": "",
            "description_tooltip": null,
            "layout": "IPY_MODEL_8725ab1347e84f54b2b865022f11b7e3",
            "placeholder": "​",
            "style": "IPY_MODEL_54b05c74dab649d999874d8667365ce7",
            "value": " 29.0/29.0 [00:00&lt;00:00, 384B/s]"
          }
        },
        "1e012a88e972400ca5565788e6ea4305": {
          "model_module": "@jupyter-widgets/base",
          "model_name": "LayoutModel",
          "model_module_version": "1.2.0",
          "state": {
            "_model_module": "@jupyter-widgets/base",
            "_model_module_version": "1.2.0",
            "_model_name": "LayoutModel",
            "_view_count": null,
            "_view_module": "@jupyter-widgets/base",
            "_view_module_version": "1.2.0",
            "_view_name": "LayoutView",
            "align_content": null,
            "align_items": null,
            "align_self": null,
            "border": null,
            "bottom": null,
            "display": null,
            "flex": null,
            "flex_flow": null,
            "grid_area": null,
            "grid_auto_columns": null,
            "grid_auto_flow": null,
            "grid_auto_rows": null,
            "grid_column": null,
            "grid_gap": null,
            "grid_row": null,
            "grid_template_areas": null,
            "grid_template_columns": null,
            "grid_template_rows": null,
            "height": null,
            "justify_content": null,
            "justify_items": null,
            "left": null,
            "margin": null,
            "max_height": null,
            "max_width": null,
            "min_height": null,
            "min_width": null,
            "object_fit": null,
            "object_position": null,
            "order": null,
            "overflow": null,
            "overflow_x": null,
            "overflow_y": null,
            "padding": null,
            "right": null,
            "top": null,
            "visibility": null,
            "width": null
          }
        },
        "3d3c0898bbd741a79a4a461f56db52d6": {
          "model_module": "@jupyter-widgets/base",
          "model_name": "LayoutModel",
          "model_module_version": "1.2.0",
          "state": {
            "_model_module": "@jupyter-widgets/base",
            "_model_module_version": "1.2.0",
            "_model_name": "LayoutModel",
            "_view_count": null,
            "_view_module": "@jupyter-widgets/base",
            "_view_module_version": "1.2.0",
            "_view_name": "LayoutView",
            "align_content": null,
            "align_items": null,
            "align_self": null,
            "border": null,
            "bottom": null,
            "display": null,
            "flex": null,
            "flex_flow": null,
            "grid_area": null,
            "grid_auto_columns": null,
            "grid_auto_flow": null,
            "grid_auto_rows": null,
            "grid_column": null,
            "grid_gap": null,
            "grid_row": null,
            "grid_template_areas": null,
            "grid_template_columns": null,
            "grid_template_rows": null,
            "height": null,
            "justify_content": null,
            "justify_items": null,
            "left": null,
            "margin": null,
            "max_height": null,
            "max_width": null,
            "min_height": null,
            "min_width": null,
            "object_fit": null,
            "object_position": null,
            "order": null,
            "overflow": null,
            "overflow_x": null,
            "overflow_y": null,
            "padding": null,
            "right": null,
            "top": null,
            "visibility": null,
            "width": null
          }
        },
        "61492b349913445fbf40f03844124590": {
          "model_module": "@jupyter-widgets/controls",
          "model_name": "DescriptionStyleModel",
          "model_module_version": "1.5.0",
          "state": {
            "_model_module": "@jupyter-widgets/controls",
            "_model_module_version": "1.5.0",
            "_model_name": "DescriptionStyleModel",
            "_view_count": null,
            "_view_module": "@jupyter-widgets/base",
            "_view_module_version": "1.2.0",
            "_view_name": "StyleView",
            "description_width": ""
          }
        },
        "fa2aa6880bcf4bee82453f5a8728935d": {
          "model_module": "@jupyter-widgets/base",
          "model_name": "LayoutModel",
          "model_module_version": "1.2.0",
          "state": {
            "_model_module": "@jupyter-widgets/base",
            "_model_module_version": "1.2.0",
            "_model_name": "LayoutModel",
            "_view_count": null,
            "_view_module": "@jupyter-widgets/base",
            "_view_module_version": "1.2.0",
            "_view_name": "LayoutView",
            "align_content": null,
            "align_items": null,
            "align_self": null,
            "border": null,
            "bottom": null,
            "display": null,
            "flex": null,
            "flex_flow": null,
            "grid_area": null,
            "grid_auto_columns": null,
            "grid_auto_flow": null,
            "grid_auto_rows": null,
            "grid_column": null,
            "grid_gap": null,
            "grid_row": null,
            "grid_template_areas": null,
            "grid_template_columns": null,
            "grid_template_rows": null,
            "height": null,
            "justify_content": null,
            "justify_items": null,
            "left": null,
            "margin": null,
            "max_height": null,
            "max_width": null,
            "min_height": null,
            "min_width": null,
            "object_fit": null,
            "object_position": null,
            "order": null,
            "overflow": null,
            "overflow_x": null,
            "overflow_y": null,
            "padding": null,
            "right": null,
            "top": null,
            "visibility": null,
            "width": null
          }
        },
        "83467cd81a8247388bd5e1118b6454ab": {
          "model_module": "@jupyter-widgets/controls",
          "model_name": "ProgressStyleModel",
          "model_module_version": "1.5.0",
          "state": {
            "_model_module": "@jupyter-widgets/controls",
            "_model_module_version": "1.5.0",
            "_model_name": "ProgressStyleModel",
            "_view_count": null,
            "_view_module": "@jupyter-widgets/base",
            "_view_module_version": "1.2.0",
            "_view_name": "StyleView",
            "bar_color": null,
            "description_width": ""
          }
        },
        "8725ab1347e84f54b2b865022f11b7e3": {
          "model_module": "@jupyter-widgets/base",
          "model_name": "LayoutModel",
          "model_module_version": "1.2.0",
          "state": {
            "_model_module": "@jupyter-widgets/base",
            "_model_module_version": "1.2.0",
            "_model_name": "LayoutModel",
            "_view_count": null,
            "_view_module": "@jupyter-widgets/base",
            "_view_module_version": "1.2.0",
            "_view_name": "LayoutView",
            "align_content": null,
            "align_items": null,
            "align_self": null,
            "border": null,
            "bottom": null,
            "display": null,
            "flex": null,
            "flex_flow": null,
            "grid_area": null,
            "grid_auto_columns": null,
            "grid_auto_flow": null,
            "grid_auto_rows": null,
            "grid_column": null,
            "grid_gap": null,
            "grid_row": null,
            "grid_template_areas": null,
            "grid_template_columns": null,
            "grid_template_rows": null,
            "height": null,
            "justify_content": null,
            "justify_items": null,
            "left": null,
            "margin": null,
            "max_height": null,
            "max_width": null,
            "min_height": null,
            "min_width": null,
            "object_fit": null,
            "object_position": null,
            "order": null,
            "overflow": null,
            "overflow_x": null,
            "overflow_y": null,
            "padding": null,
            "right": null,
            "top": null,
            "visibility": null,
            "width": null
          }
        },
        "54b05c74dab649d999874d8667365ce7": {
          "model_module": "@jupyter-widgets/controls",
          "model_name": "DescriptionStyleModel",
          "model_module_version": "1.5.0",
          "state": {
            "_model_module": "@jupyter-widgets/controls",
            "_model_module_version": "1.5.0",
            "_model_name": "DescriptionStyleModel",
            "_view_count": null,
            "_view_module": "@jupyter-widgets/base",
            "_view_module_version": "1.2.0",
            "_view_name": "StyleView",
            "description_width": ""
          }
        },
        "3c23a219ebf442d6b6be13c330c36db5": {
          "model_module": "@jupyter-widgets/controls",
          "model_name": "HBoxModel",
          "model_module_version": "1.5.0",
          "state": {
            "_dom_classes": [],
            "_model_module": "@jupyter-widgets/controls",
            "_model_module_version": "1.5.0",
            "_model_name": "HBoxModel",
            "_view_count": null,
            "_view_module": "@jupyter-widgets/controls",
            "_view_module_version": "1.5.0",
            "_view_name": "HBoxView",
            "box_style": "",
            "children": [
              "IPY_MODEL_f1151a76623a485c9a9ed47ef676936b",
              "IPY_MODEL_6e981d0691284257b92c5e7b6cfbd28f",
              "IPY_MODEL_5a1a05887f3b46ac96dc8db8479a676b"
            ],
            "layout": "IPY_MODEL_13149cedffbc4e93894bd2e0c6a50536"
          }
        },
        "f1151a76623a485c9a9ed47ef676936b": {
          "model_module": "@jupyter-widgets/controls",
          "model_name": "HTMLModel",
          "model_module_version": "1.5.0",
          "state": {
            "_dom_classes": [],
            "_model_module": "@jupyter-widgets/controls",
            "_model_module_version": "1.5.0",
            "_model_name": "HTMLModel",
            "_view_count": null,
            "_view_module": "@jupyter-widgets/controls",
            "_view_module_version": "1.5.0",
            "_view_name": "HTMLView",
            "description": "",
            "description_tooltip": null,
            "layout": "IPY_MODEL_44e5f96cdd4b4fbf8cb43295270ea2eb",
            "placeholder": "​",
            "style": "IPY_MODEL_b1c1446f7f074b32a18e0481f376f5a1",
            "value": "Downloading: 100%"
          }
        },
        "6e981d0691284257b92c5e7b6cfbd28f": {
          "model_module": "@jupyter-widgets/controls",
          "model_name": "FloatProgressModel",
          "model_module_version": "1.5.0",
          "state": {
            "_dom_classes": [],
            "_model_module": "@jupyter-widgets/controls",
            "_model_module_version": "1.5.0",
            "_model_name": "FloatProgressModel",
            "_view_count": null,
            "_view_module": "@jupyter-widgets/controls",
            "_view_module_version": "1.5.0",
            "_view_name": "ProgressView",
            "bar_style": "success",
            "description": "",
            "description_tooltip": null,
            "layout": "IPY_MODEL_0aaef52261134ecbae6e68fbb2a9da85",
            "max": 570,
            "min": 0,
            "orientation": "horizontal",
            "style": "IPY_MODEL_a862aa1a9aae43f5b0303503cd5ca2d4",
            "value": 570
          }
        },
        "5a1a05887f3b46ac96dc8db8479a676b": {
          "model_module": "@jupyter-widgets/controls",
          "model_name": "HTMLModel",
          "model_module_version": "1.5.0",
          "state": {
            "_dom_classes": [],
            "_model_module": "@jupyter-widgets/controls",
            "_model_module_version": "1.5.0",
            "_model_name": "HTMLModel",
            "_view_count": null,
            "_view_module": "@jupyter-widgets/controls",
            "_view_module_version": "1.5.0",
            "_view_name": "HTMLView",
            "description": "",
            "description_tooltip": null,
            "layout": "IPY_MODEL_147f717b3c104832ab7eb6789fa1e2f9",
            "placeholder": "​",
            "style": "IPY_MODEL_d686f7fd5c4c4d9eac01123cbd514b6d",
            "value": " 570/570 [00:00&lt;00:00, 15.1kB/s]"
          }
        },
        "13149cedffbc4e93894bd2e0c6a50536": {
          "model_module": "@jupyter-widgets/base",
          "model_name": "LayoutModel",
          "model_module_version": "1.2.0",
          "state": {
            "_model_module": "@jupyter-widgets/base",
            "_model_module_version": "1.2.0",
            "_model_name": "LayoutModel",
            "_view_count": null,
            "_view_module": "@jupyter-widgets/base",
            "_view_module_version": "1.2.0",
            "_view_name": "LayoutView",
            "align_content": null,
            "align_items": null,
            "align_self": null,
            "border": null,
            "bottom": null,
            "display": null,
            "flex": null,
            "flex_flow": null,
            "grid_area": null,
            "grid_auto_columns": null,
            "grid_auto_flow": null,
            "grid_auto_rows": null,
            "grid_column": null,
            "grid_gap": null,
            "grid_row": null,
            "grid_template_areas": null,
            "grid_template_columns": null,
            "grid_template_rows": null,
            "height": null,
            "justify_content": null,
            "justify_items": null,
            "left": null,
            "margin": null,
            "max_height": null,
            "max_width": null,
            "min_height": null,
            "min_width": null,
            "object_fit": null,
            "object_position": null,
            "order": null,
            "overflow": null,
            "overflow_x": null,
            "overflow_y": null,
            "padding": null,
            "right": null,
            "top": null,
            "visibility": null,
            "width": null
          }
        },
        "44e5f96cdd4b4fbf8cb43295270ea2eb": {
          "model_module": "@jupyter-widgets/base",
          "model_name": "LayoutModel",
          "model_module_version": "1.2.0",
          "state": {
            "_model_module": "@jupyter-widgets/base",
            "_model_module_version": "1.2.0",
            "_model_name": "LayoutModel",
            "_view_count": null,
            "_view_module": "@jupyter-widgets/base",
            "_view_module_version": "1.2.0",
            "_view_name": "LayoutView",
            "align_content": null,
            "align_items": null,
            "align_self": null,
            "border": null,
            "bottom": null,
            "display": null,
            "flex": null,
            "flex_flow": null,
            "grid_area": null,
            "grid_auto_columns": null,
            "grid_auto_flow": null,
            "grid_auto_rows": null,
            "grid_column": null,
            "grid_gap": null,
            "grid_row": null,
            "grid_template_areas": null,
            "grid_template_columns": null,
            "grid_template_rows": null,
            "height": null,
            "justify_content": null,
            "justify_items": null,
            "left": null,
            "margin": null,
            "max_height": null,
            "max_width": null,
            "min_height": null,
            "min_width": null,
            "object_fit": null,
            "object_position": null,
            "order": null,
            "overflow": null,
            "overflow_x": null,
            "overflow_y": null,
            "padding": null,
            "right": null,
            "top": null,
            "visibility": null,
            "width": null
          }
        },
        "b1c1446f7f074b32a18e0481f376f5a1": {
          "model_module": "@jupyter-widgets/controls",
          "model_name": "DescriptionStyleModel",
          "model_module_version": "1.5.0",
          "state": {
            "_model_module": "@jupyter-widgets/controls",
            "_model_module_version": "1.5.0",
            "_model_name": "DescriptionStyleModel",
            "_view_count": null,
            "_view_module": "@jupyter-widgets/base",
            "_view_module_version": "1.2.0",
            "_view_name": "StyleView",
            "description_width": ""
          }
        },
        "0aaef52261134ecbae6e68fbb2a9da85": {
          "model_module": "@jupyter-widgets/base",
          "model_name": "LayoutModel",
          "model_module_version": "1.2.0",
          "state": {
            "_model_module": "@jupyter-widgets/base",
            "_model_module_version": "1.2.0",
            "_model_name": "LayoutModel",
            "_view_count": null,
            "_view_module": "@jupyter-widgets/base",
            "_view_module_version": "1.2.0",
            "_view_name": "LayoutView",
            "align_content": null,
            "align_items": null,
            "align_self": null,
            "border": null,
            "bottom": null,
            "display": null,
            "flex": null,
            "flex_flow": null,
            "grid_area": null,
            "grid_auto_columns": null,
            "grid_auto_flow": null,
            "grid_auto_rows": null,
            "grid_column": null,
            "grid_gap": null,
            "grid_row": null,
            "grid_template_areas": null,
            "grid_template_columns": null,
            "grid_template_rows": null,
            "height": null,
            "justify_content": null,
            "justify_items": null,
            "left": null,
            "margin": null,
            "max_height": null,
            "max_width": null,
            "min_height": null,
            "min_width": null,
            "object_fit": null,
            "object_position": null,
            "order": null,
            "overflow": null,
            "overflow_x": null,
            "overflow_y": null,
            "padding": null,
            "right": null,
            "top": null,
            "visibility": null,
            "width": null
          }
        },
        "a862aa1a9aae43f5b0303503cd5ca2d4": {
          "model_module": "@jupyter-widgets/controls",
          "model_name": "ProgressStyleModel",
          "model_module_version": "1.5.0",
          "state": {
            "_model_module": "@jupyter-widgets/controls",
            "_model_module_version": "1.5.0",
            "_model_name": "ProgressStyleModel",
            "_view_count": null,
            "_view_module": "@jupyter-widgets/base",
            "_view_module_version": "1.2.0",
            "_view_name": "StyleView",
            "bar_color": null,
            "description_width": ""
          }
        },
        "147f717b3c104832ab7eb6789fa1e2f9": {
          "model_module": "@jupyter-widgets/base",
          "model_name": "LayoutModel",
          "model_module_version": "1.2.0",
          "state": {
            "_model_module": "@jupyter-widgets/base",
            "_model_module_version": "1.2.0",
            "_model_name": "LayoutModel",
            "_view_count": null,
            "_view_module": "@jupyter-widgets/base",
            "_view_module_version": "1.2.0",
            "_view_name": "LayoutView",
            "align_content": null,
            "align_items": null,
            "align_self": null,
            "border": null,
            "bottom": null,
            "display": null,
            "flex": null,
            "flex_flow": null,
            "grid_area": null,
            "grid_auto_columns": null,
            "grid_auto_flow": null,
            "grid_auto_rows": null,
            "grid_column": null,
            "grid_gap": null,
            "grid_row": null,
            "grid_template_areas": null,
            "grid_template_columns": null,
            "grid_template_rows": null,
            "height": null,
            "justify_content": null,
            "justify_items": null,
            "left": null,
            "margin": null,
            "max_height": null,
            "max_width": null,
            "min_height": null,
            "min_width": null,
            "object_fit": null,
            "object_position": null,
            "order": null,
            "overflow": null,
            "overflow_x": null,
            "overflow_y": null,
            "padding": null,
            "right": null,
            "top": null,
            "visibility": null,
            "width": null
          }
        },
        "d686f7fd5c4c4d9eac01123cbd514b6d": {
          "model_module": "@jupyter-widgets/controls",
          "model_name": "DescriptionStyleModel",
          "model_module_version": "1.5.0",
          "state": {
            "_model_module": "@jupyter-widgets/controls",
            "_model_module_version": "1.5.0",
            "_model_name": "DescriptionStyleModel",
            "_view_count": null,
            "_view_module": "@jupyter-widgets/base",
            "_view_module_version": "1.2.0",
            "_view_name": "StyleView",
            "description_width": ""
          }
        },
        "c3a4530ec95e4ed5902e661a9367f407": {
          "model_module": "@jupyter-widgets/controls",
          "model_name": "HBoxModel",
          "model_module_version": "1.5.0",
          "state": {
            "_dom_classes": [],
            "_model_module": "@jupyter-widgets/controls",
            "_model_module_version": "1.5.0",
            "_model_name": "HBoxModel",
            "_view_count": null,
            "_view_module": "@jupyter-widgets/controls",
            "_view_module_version": "1.5.0",
            "_view_name": "HBoxView",
            "box_style": "",
            "children": [
              "IPY_MODEL_ab316731a08046deb7566029156d684f",
              "IPY_MODEL_ed4b3257008a4cf481d780d5d086f9eb",
              "IPY_MODEL_3e7a1aec35cf4defa763503e125c3650"
            ],
            "layout": "IPY_MODEL_415486650bb24b7c995e961175041525"
          }
        },
        "ab316731a08046deb7566029156d684f": {
          "model_module": "@jupyter-widgets/controls",
          "model_name": "HTMLModel",
          "model_module_version": "1.5.0",
          "state": {
            "_dom_classes": [],
            "_model_module": "@jupyter-widgets/controls",
            "_model_module_version": "1.5.0",
            "_model_name": "HTMLModel",
            "_view_count": null,
            "_view_module": "@jupyter-widgets/controls",
            "_view_module_version": "1.5.0",
            "_view_name": "HTMLView",
            "description": "",
            "description_tooltip": null,
            "layout": "IPY_MODEL_0caa60b846f545798dacc9c7b9cdc9d3",
            "placeholder": "​",
            "style": "IPY_MODEL_9892dbd3bf504190ab3cafb8f212488b",
            "value": "Downloading: 100%"
          }
        },
        "ed4b3257008a4cf481d780d5d086f9eb": {
          "model_module": "@jupyter-widgets/controls",
          "model_name": "FloatProgressModel",
          "model_module_version": "1.5.0",
          "state": {
            "_dom_classes": [],
            "_model_module": "@jupyter-widgets/controls",
            "_model_module_version": "1.5.0",
            "_model_name": "FloatProgressModel",
            "_view_count": null,
            "_view_module": "@jupyter-widgets/controls",
            "_view_module_version": "1.5.0",
            "_view_name": "ProgressView",
            "bar_style": "success",
            "description": "",
            "description_tooltip": null,
            "layout": "IPY_MODEL_de5aef809fa845e4b4c9d4e64c79ecf2",
            "max": 526681800,
            "min": 0,
            "orientation": "horizontal",
            "style": "IPY_MODEL_40be44ccdca447bc8605f31ab5627c2a",
            "value": 526681800
          }
        },
        "3e7a1aec35cf4defa763503e125c3650": {
          "model_module": "@jupyter-widgets/controls",
          "model_name": "HTMLModel",
          "model_module_version": "1.5.0",
          "state": {
            "_dom_classes": [],
            "_model_module": "@jupyter-widgets/controls",
            "_model_module_version": "1.5.0",
            "_model_name": "HTMLModel",
            "_view_count": null,
            "_view_module": "@jupyter-widgets/controls",
            "_view_module_version": "1.5.0",
            "_view_name": "HTMLView",
            "description": "",
            "description_tooltip": null,
            "layout": "IPY_MODEL_8ce25afd2fc845f6abf8ca6cefa95841",
            "placeholder": "​",
            "style": "IPY_MODEL_bf62b00766e94f308749f911d9736e36",
            "value": " 502M/502M [00:08&lt;00:00, 64.0MB/s]"
          }
        },
        "415486650bb24b7c995e961175041525": {
          "model_module": "@jupyter-widgets/base",
          "model_name": "LayoutModel",
          "model_module_version": "1.2.0",
          "state": {
            "_model_module": "@jupyter-widgets/base",
            "_model_module_version": "1.2.0",
            "_model_name": "LayoutModel",
            "_view_count": null,
            "_view_module": "@jupyter-widgets/base",
            "_view_module_version": "1.2.0",
            "_view_name": "LayoutView",
            "align_content": null,
            "align_items": null,
            "align_self": null,
            "border": null,
            "bottom": null,
            "display": null,
            "flex": null,
            "flex_flow": null,
            "grid_area": null,
            "grid_auto_columns": null,
            "grid_auto_flow": null,
            "grid_auto_rows": null,
            "grid_column": null,
            "grid_gap": null,
            "grid_row": null,
            "grid_template_areas": null,
            "grid_template_columns": null,
            "grid_template_rows": null,
            "height": null,
            "justify_content": null,
            "justify_items": null,
            "left": null,
            "margin": null,
            "max_height": null,
            "max_width": null,
            "min_height": null,
            "min_width": null,
            "object_fit": null,
            "object_position": null,
            "order": null,
            "overflow": null,
            "overflow_x": null,
            "overflow_y": null,
            "padding": null,
            "right": null,
            "top": null,
            "visibility": null,
            "width": null
          }
        },
        "0caa60b846f545798dacc9c7b9cdc9d3": {
          "model_module": "@jupyter-widgets/base",
          "model_name": "LayoutModel",
          "model_module_version": "1.2.0",
          "state": {
            "_model_module": "@jupyter-widgets/base",
            "_model_module_version": "1.2.0",
            "_model_name": "LayoutModel",
            "_view_count": null,
            "_view_module": "@jupyter-widgets/base",
            "_view_module_version": "1.2.0",
            "_view_name": "LayoutView",
            "align_content": null,
            "align_items": null,
            "align_self": null,
            "border": null,
            "bottom": null,
            "display": null,
            "flex": null,
            "flex_flow": null,
            "grid_area": null,
            "grid_auto_columns": null,
            "grid_auto_flow": null,
            "grid_auto_rows": null,
            "grid_column": null,
            "grid_gap": null,
            "grid_row": null,
            "grid_template_areas": null,
            "grid_template_columns": null,
            "grid_template_rows": null,
            "height": null,
            "justify_content": null,
            "justify_items": null,
            "left": null,
            "margin": null,
            "max_height": null,
            "max_width": null,
            "min_height": null,
            "min_width": null,
            "object_fit": null,
            "object_position": null,
            "order": null,
            "overflow": null,
            "overflow_x": null,
            "overflow_y": null,
            "padding": null,
            "right": null,
            "top": null,
            "visibility": null,
            "width": null
          }
        },
        "9892dbd3bf504190ab3cafb8f212488b": {
          "model_module": "@jupyter-widgets/controls",
          "model_name": "DescriptionStyleModel",
          "model_module_version": "1.5.0",
          "state": {
            "_model_module": "@jupyter-widgets/controls",
            "_model_module_version": "1.5.0",
            "_model_name": "DescriptionStyleModel",
            "_view_count": null,
            "_view_module": "@jupyter-widgets/base",
            "_view_module_version": "1.2.0",
            "_view_name": "StyleView",
            "description_width": ""
          }
        },
        "de5aef809fa845e4b4c9d4e64c79ecf2": {
          "model_module": "@jupyter-widgets/base",
          "model_name": "LayoutModel",
          "model_module_version": "1.2.0",
          "state": {
            "_model_module": "@jupyter-widgets/base",
            "_model_module_version": "1.2.0",
            "_model_name": "LayoutModel",
            "_view_count": null,
            "_view_module": "@jupyter-widgets/base",
            "_view_module_version": "1.2.0",
            "_view_name": "LayoutView",
            "align_content": null,
            "align_items": null,
            "align_self": null,
            "border": null,
            "bottom": null,
            "display": null,
            "flex": null,
            "flex_flow": null,
            "grid_area": null,
            "grid_auto_columns": null,
            "grid_auto_flow": null,
            "grid_auto_rows": null,
            "grid_column": null,
            "grid_gap": null,
            "grid_row": null,
            "grid_template_areas": null,
            "grid_template_columns": null,
            "grid_template_rows": null,
            "height": null,
            "justify_content": null,
            "justify_items": null,
            "left": null,
            "margin": null,
            "max_height": null,
            "max_width": null,
            "min_height": null,
            "min_width": null,
            "object_fit": null,
            "object_position": null,
            "order": null,
            "overflow": null,
            "overflow_x": null,
            "overflow_y": null,
            "padding": null,
            "right": null,
            "top": null,
            "visibility": null,
            "width": null
          }
        },
        "40be44ccdca447bc8605f31ab5627c2a": {
          "model_module": "@jupyter-widgets/controls",
          "model_name": "ProgressStyleModel",
          "model_module_version": "1.5.0",
          "state": {
            "_model_module": "@jupyter-widgets/controls",
            "_model_module_version": "1.5.0",
            "_model_name": "ProgressStyleModel",
            "_view_count": null,
            "_view_module": "@jupyter-widgets/base",
            "_view_module_version": "1.2.0",
            "_view_name": "StyleView",
            "bar_color": null,
            "description_width": ""
          }
        },
        "8ce25afd2fc845f6abf8ca6cefa95841": {
          "model_module": "@jupyter-widgets/base",
          "model_name": "LayoutModel",
          "model_module_version": "1.2.0",
          "state": {
            "_model_module": "@jupyter-widgets/base",
            "_model_module_version": "1.2.0",
            "_model_name": "LayoutModel",
            "_view_count": null,
            "_view_module": "@jupyter-widgets/base",
            "_view_module_version": "1.2.0",
            "_view_name": "LayoutView",
            "align_content": null,
            "align_items": null,
            "align_self": null,
            "border": null,
            "bottom": null,
            "display": null,
            "flex": null,
            "flex_flow": null,
            "grid_area": null,
            "grid_auto_columns": null,
            "grid_auto_flow": null,
            "grid_auto_rows": null,
            "grid_column": null,
            "grid_gap": null,
            "grid_row": null,
            "grid_template_areas": null,
            "grid_template_columns": null,
            "grid_template_rows": null,
            "height": null,
            "justify_content": null,
            "justify_items": null,
            "left": null,
            "margin": null,
            "max_height": null,
            "max_width": null,
            "min_height": null,
            "min_width": null,
            "object_fit": null,
            "object_position": null,
            "order": null,
            "overflow": null,
            "overflow_x": null,
            "overflow_y": null,
            "padding": null,
            "right": null,
            "top": null,
            "visibility": null,
            "width": null
          }
        },
        "bf62b00766e94f308749f911d9736e36": {
          "model_module": "@jupyter-widgets/controls",
          "model_name": "DescriptionStyleModel",
          "model_module_version": "1.5.0",
          "state": {
            "_model_module": "@jupyter-widgets/controls",
            "_model_module_version": "1.5.0",
            "_model_name": "DescriptionStyleModel",
            "_view_count": null,
            "_view_module": "@jupyter-widgets/base",
            "_view_module_version": "1.2.0",
            "_view_name": "StyleView",
            "description_width": ""
          }
        }
      }
    },
    "accelerator": "GPU"
  },
  "cells": [
    {
      "cell_type": "markdown",
      "metadata": {
        "id": "view-in-github",
        "colab_type": "text"
      },
      "source": [
        "<a href=\"https://colab.research.google.com/github/umbertoselva/NER-based-Sentiment-Analysis/blob/main/04_Sentiment_Analysis_BERT.ipynb\" target=\"_parent\"><img src=\"https://colab.research.google.com/assets/colab-badge.svg\" alt=\"Open In Colab\"/></a>"
      ]
    },
    {
      "cell_type": "markdown",
      "source": [
        "# 04 SENTIMENT ANALYSIS WITH A FINE-TUNED BERT MODEL"
      ],
      "metadata": {
        "id": "DdzeVgsqXszL"
      }
    },
    {
      "cell_type": "markdown",
      "source": [
        "This is Part 04 of my NER-based Sentiment Analysis Project: \n",
        "https://github.com/umbertoselva/NER-based-Sentiment-Analysis"
      ],
      "metadata": {
        "id": "ONGFYzU16--h"
      }
    },
    {
      "cell_type": "markdown",
      "source": [
        "Our goal here is to preprocess the Kaggle movie review dataset that we acquired and adapted in Part 03, and turn it into a training set and validation set with which to fine-tune a BERT model for Sentiment Analysis. Finally we want to perform Sentiment Analysis on the movie reviews in the \"I Just Watched\" subreddit dataset that we worked with in Part 01 and 02 and store the results in a dedicated \"sentiment\" column."
      ],
      "metadata": {
        "id": "tJw0NI9RMe6L"
      }
    },
    {
      "cell_type": "markdown",
      "source": [
        "## TABLE OF CONTENTS\n",
        "\n",
        "A) Preprocessing\n",
        "\n",
        "B) Input pipeline\n",
        "\n",
        "C) Fine-tuning BERT\n",
        "\n",
        "D) Sentiment Analysis"
      ],
      "metadata": {
        "id": "5iegWL-73cS1"
      }
    },
    {
      "cell_type": "markdown",
      "source": [
        "## A) PREPROCESSING"
      ],
      "metadata": {
        "id": "23KhTBm4wKJ2"
      }
    },
    {
      "cell_type": "markdown",
      "source": [
        "#### LOADING THE KAGGLE MOVIE REVIEW DATASET"
      ],
      "metadata": {
        "id": "FurvtY7O3pP7"
      }
    },
    {
      "cell_type": "markdown",
      "source": [
        "Let's retrieve from Google Drive the dataset that we created earlier in the Part 03"
      ],
      "metadata": {
        "id": "Yh68Z8YEX3De"
      }
    },
    {
      "cell_type": "code",
      "source": [
        "import pandas as pd"
      ],
      "metadata": {
        "id": "atGNmUaHX6j2"
      },
      "execution_count": 1,
      "outputs": []
    },
    {
      "cell_type": "code",
      "source": [
        "url = \"https://drive.google.com/file/d/1PJsd2xDNDzRPgJnsgpmf5yAs8SWh5U2l/view?usp=sharing\"\n",
        "file_id = url.split('/')[-2]\n",
        "dwn_url = 'https://drive.google.com/uc?export=download&id=' + file_id\n",
        "df = pd.read_csv(dwn_url, sep='|', encoding='utf-8')\n",
        "df"
      ],
      "metadata": {
        "colab": {
          "base_uri": "https://localhost:8080/",
          "height": 424
        },
        "id": "sFJBoHPgX-0E",
        "outputId": "fc54d66a-3c9e-4f0c-dd6d-9a87cf69fd22"
      },
      "execution_count": 2,
      "outputs": [
        {
          "output_type": "execute_result",
          "data": {
            "text/plain": [
              "       PhraseId  SentenceId  \\\n",
              "0             1           1   \n",
              "1            22           1   \n",
              "2            23           1   \n",
              "3            34           1   \n",
              "4            47           1   \n",
              "...         ...         ...   \n",
              "76473    156048        8544   \n",
              "76474    156052        8544   \n",
              "76475    156053        8544   \n",
              "76476    156057        8544   \n",
              "76477    156058        8544   \n",
              "\n",
              "                                                  Phrase  Sentiment  \n",
              "0      A series of escapades demonstrating the adage ...          0  \n",
              "1                                     good for the goose          1  \n",
              "2                                                   good          1  \n",
              "3      the gander , some of which occasionally amuses...          0  \n",
              "4                                                 amuses          1  \n",
              "...                                                  ...        ...  \n",
              "76473  quietly suggesting the sadness and obsession b...          0  \n",
              "76474                              sadness and obsession          0  \n",
              "76475                                        sadness and          0  \n",
              "76476                          forced avuncular chortles          0  \n",
              "76477                                 avuncular chortles          1  \n",
              "\n",
              "[76478 rows x 4 columns]"
            ],
            "text/html": [
              "\n",
              "  <div id=\"df-7220deb1-5b2a-4bd3-b681-d98a46c5d310\">\n",
              "    <div class=\"colab-df-container\">\n",
              "      <div>\n",
              "<style scoped>\n",
              "    .dataframe tbody tr th:only-of-type {\n",
              "        vertical-align: middle;\n",
              "    }\n",
              "\n",
              "    .dataframe tbody tr th {\n",
              "        vertical-align: top;\n",
              "    }\n",
              "\n",
              "    .dataframe thead th {\n",
              "        text-align: right;\n",
              "    }\n",
              "</style>\n",
              "<table border=\"1\" class=\"dataframe\">\n",
              "  <thead>\n",
              "    <tr style=\"text-align: right;\">\n",
              "      <th></th>\n",
              "      <th>PhraseId</th>\n",
              "      <th>SentenceId</th>\n",
              "      <th>Phrase</th>\n",
              "      <th>Sentiment</th>\n",
              "    </tr>\n",
              "  </thead>\n",
              "  <tbody>\n",
              "    <tr>\n",
              "      <th>0</th>\n",
              "      <td>1</td>\n",
              "      <td>1</td>\n",
              "      <td>A series of escapades demonstrating the adage ...</td>\n",
              "      <td>0</td>\n",
              "    </tr>\n",
              "    <tr>\n",
              "      <th>1</th>\n",
              "      <td>22</td>\n",
              "      <td>1</td>\n",
              "      <td>good for the goose</td>\n",
              "      <td>1</td>\n",
              "    </tr>\n",
              "    <tr>\n",
              "      <th>2</th>\n",
              "      <td>23</td>\n",
              "      <td>1</td>\n",
              "      <td>good</td>\n",
              "      <td>1</td>\n",
              "    </tr>\n",
              "    <tr>\n",
              "      <th>3</th>\n",
              "      <td>34</td>\n",
              "      <td>1</td>\n",
              "      <td>the gander , some of which occasionally amuses...</td>\n",
              "      <td>0</td>\n",
              "    </tr>\n",
              "    <tr>\n",
              "      <th>4</th>\n",
              "      <td>47</td>\n",
              "      <td>1</td>\n",
              "      <td>amuses</td>\n",
              "      <td>1</td>\n",
              "    </tr>\n",
              "    <tr>\n",
              "      <th>...</th>\n",
              "      <td>...</td>\n",
              "      <td>...</td>\n",
              "      <td>...</td>\n",
              "      <td>...</td>\n",
              "    </tr>\n",
              "    <tr>\n",
              "      <th>76473</th>\n",
              "      <td>156048</td>\n",
              "      <td>8544</td>\n",
              "      <td>quietly suggesting the sadness and obsession b...</td>\n",
              "      <td>0</td>\n",
              "    </tr>\n",
              "    <tr>\n",
              "      <th>76474</th>\n",
              "      <td>156052</td>\n",
              "      <td>8544</td>\n",
              "      <td>sadness and obsession</td>\n",
              "      <td>0</td>\n",
              "    </tr>\n",
              "    <tr>\n",
              "      <th>76475</th>\n",
              "      <td>156053</td>\n",
              "      <td>8544</td>\n",
              "      <td>sadness and</td>\n",
              "      <td>0</td>\n",
              "    </tr>\n",
              "    <tr>\n",
              "      <th>76476</th>\n",
              "      <td>156057</td>\n",
              "      <td>8544</td>\n",
              "      <td>forced avuncular chortles</td>\n",
              "      <td>0</td>\n",
              "    </tr>\n",
              "    <tr>\n",
              "      <th>76477</th>\n",
              "      <td>156058</td>\n",
              "      <td>8544</td>\n",
              "      <td>avuncular chortles</td>\n",
              "      <td>1</td>\n",
              "    </tr>\n",
              "  </tbody>\n",
              "</table>\n",
              "<p>76478 rows × 4 columns</p>\n",
              "</div>\n",
              "      <button class=\"colab-df-convert\" onclick=\"convertToInteractive('df-7220deb1-5b2a-4bd3-b681-d98a46c5d310')\"\n",
              "              title=\"Convert this dataframe to an interactive table.\"\n",
              "              style=\"display:none;\">\n",
              "        \n",
              "  <svg xmlns=\"http://www.w3.org/2000/svg\" height=\"24px\"viewBox=\"0 0 24 24\"\n",
              "       width=\"24px\">\n",
              "    <path d=\"M0 0h24v24H0V0z\" fill=\"none\"/>\n",
              "    <path d=\"M18.56 5.44l.94 2.06.94-2.06 2.06-.94-2.06-.94-.94-2.06-.94 2.06-2.06.94zm-11 1L8.5 8.5l.94-2.06 2.06-.94-2.06-.94L8.5 2.5l-.94 2.06-2.06.94zm10 10l.94 2.06.94-2.06 2.06-.94-2.06-.94-.94-2.06-.94 2.06-2.06.94z\"/><path d=\"M17.41 7.96l-1.37-1.37c-.4-.4-.92-.59-1.43-.59-.52 0-1.04.2-1.43.59L10.3 9.45l-7.72 7.72c-.78.78-.78 2.05 0 2.83L4 21.41c.39.39.9.59 1.41.59.51 0 1.02-.2 1.41-.59l7.78-7.78 2.81-2.81c.8-.78.8-2.07 0-2.86zM5.41 20L4 18.59l7.72-7.72 1.47 1.35L5.41 20z\"/>\n",
              "  </svg>\n",
              "      </button>\n",
              "      \n",
              "  <style>\n",
              "    .colab-df-container {\n",
              "      display:flex;\n",
              "      flex-wrap:wrap;\n",
              "      gap: 12px;\n",
              "    }\n",
              "\n",
              "    .colab-df-convert {\n",
              "      background-color: #E8F0FE;\n",
              "      border: none;\n",
              "      border-radius: 50%;\n",
              "      cursor: pointer;\n",
              "      display: none;\n",
              "      fill: #1967D2;\n",
              "      height: 32px;\n",
              "      padding: 0 0 0 0;\n",
              "      width: 32px;\n",
              "    }\n",
              "\n",
              "    .colab-df-convert:hover {\n",
              "      background-color: #E2EBFA;\n",
              "      box-shadow: 0px 1px 2px rgba(60, 64, 67, 0.3), 0px 1px 3px 1px rgba(60, 64, 67, 0.15);\n",
              "      fill: #174EA6;\n",
              "    }\n",
              "\n",
              "    [theme=dark] .colab-df-convert {\n",
              "      background-color: #3B4455;\n",
              "      fill: #D2E3FC;\n",
              "    }\n",
              "\n",
              "    [theme=dark] .colab-df-convert:hover {\n",
              "      background-color: #434B5C;\n",
              "      box-shadow: 0px 1px 3px 1px rgba(0, 0, 0, 0.15);\n",
              "      filter: drop-shadow(0px 1px 2px rgba(0, 0, 0, 0.3));\n",
              "      fill: #FFFFFF;\n",
              "    }\n",
              "  </style>\n",
              "\n",
              "      <script>\n",
              "        const buttonEl =\n",
              "          document.querySelector('#df-7220deb1-5b2a-4bd3-b681-d98a46c5d310 button.colab-df-convert');\n",
              "        buttonEl.style.display =\n",
              "          google.colab.kernel.accessAllowed ? 'block' : 'none';\n",
              "\n",
              "        async function convertToInteractive(key) {\n",
              "          const element = document.querySelector('#df-7220deb1-5b2a-4bd3-b681-d98a46c5d310');\n",
              "          const dataTable =\n",
              "            await google.colab.kernel.invokeFunction('convertToInteractive',\n",
              "                                                     [key], {});\n",
              "          if (!dataTable) return;\n",
              "\n",
              "          const docLinkHtml = 'Like what you see? Visit the ' +\n",
              "            '<a target=\"_blank\" href=https://colab.research.google.com/notebooks/data_table.ipynb>data table notebook</a>'\n",
              "            + ' to learn more about interactive tables.';\n",
              "          element.innerHTML = '';\n",
              "          dataTable['output_type'] = 'display_data';\n",
              "          await google.colab.output.renderOutput(dataTable, element);\n",
              "          const docLink = document.createElement('div');\n",
              "          docLink.innerHTML = docLinkHtml;\n",
              "          element.appendChild(docLink);\n",
              "        }\n",
              "      </script>\n",
              "    </div>\n",
              "  </div>\n",
              "  "
            ]
          },
          "metadata": {},
          "execution_count": 2
        }
      ]
    },
    {
      "cell_type": "code",
      "source": [
        "df.info()"
      ],
      "metadata": {
        "colab": {
          "base_uri": "https://localhost:8080/"
        },
        "id": "FZ5LDe31YXn_",
        "outputId": "74328383-ec4d-42c4-f89a-c4e173591cb0"
      },
      "execution_count": 3,
      "outputs": [
        {
          "output_type": "stream",
          "name": "stdout",
          "text": [
            "<class 'pandas.core.frame.DataFrame'>\n",
            "RangeIndex: 76478 entries, 0 to 76477\n",
            "Data columns (total 4 columns):\n",
            " #   Column      Non-Null Count  Dtype \n",
            "---  ------      --------------  ----- \n",
            " 0   PhraseId    76478 non-null  int64 \n",
            " 1   SentenceId  76478 non-null  int64 \n",
            " 2   Phrase      76478 non-null  object\n",
            " 3   Sentiment   76478 non-null  int64 \n",
            "dtypes: int64(3), object(1)\n",
            "memory usage: 2.3+ MB\n"
          ]
        }
      ]
    },
    {
      "cell_type": "markdown",
      "source": [
        "#### TOKENIZATION"
      ],
      "metadata": {
        "id": "FNDpiVl9YpxG"
      }
    },
    {
      "cell_type": "code",
      "source": [
        "!pip install transformers"
      ],
      "metadata": {
        "colab": {
          "base_uri": "https://localhost:8080/"
        },
        "id": "W-XhKTYtYvt2",
        "outputId": "60e8464f-2472-4bb1-e32e-e3b2aa1ecee6"
      },
      "execution_count": 4,
      "outputs": [
        {
          "output_type": "stream",
          "name": "stdout",
          "text": [
            "Looking in indexes: https://pypi.org/simple, https://us-python.pkg.dev/colab-wheels/public/simple/\n",
            "Collecting transformers\n",
            "  Downloading transformers-4.20.1-py3-none-any.whl (4.4 MB)\n",
            "\u001b[K     |████████████████████████████████| 4.4 MB 7.7 MB/s \n",
            "\u001b[?25hRequirement already satisfied: requests in /usr/local/lib/python3.7/dist-packages (from transformers) (2.23.0)\n",
            "Requirement already satisfied: packaging>=20.0 in /usr/local/lib/python3.7/dist-packages (from transformers) (21.3)\n",
            "Requirement already satisfied: filelock in /usr/local/lib/python3.7/dist-packages (from transformers) (3.7.1)\n",
            "Collecting huggingface-hub<1.0,>=0.1.0\n",
            "  Downloading huggingface_hub-0.8.1-py3-none-any.whl (101 kB)\n",
            "\u001b[K     |████████████████████████████████| 101 kB 11.3 MB/s \n",
            "\u001b[?25hRequirement already satisfied: tqdm>=4.27 in /usr/local/lib/python3.7/dist-packages (from transformers) (4.64.0)\n",
            "Requirement already satisfied: importlib-metadata in /usr/local/lib/python3.7/dist-packages (from transformers) (4.12.0)\n",
            "Collecting pyyaml>=5.1\n",
            "  Downloading PyYAML-6.0-cp37-cp37m-manylinux_2_5_x86_64.manylinux1_x86_64.manylinux_2_12_x86_64.manylinux2010_x86_64.whl (596 kB)\n",
            "\u001b[K     |████████████████████████████████| 596 kB 57.9 MB/s \n",
            "\u001b[?25hCollecting tokenizers!=0.11.3,<0.13,>=0.11.1\n",
            "  Downloading tokenizers-0.12.1-cp37-cp37m-manylinux_2_12_x86_64.manylinux2010_x86_64.whl (6.6 MB)\n",
            "\u001b[K     |████████████████████████████████| 6.6 MB 55.2 MB/s \n",
            "\u001b[?25hRequirement already satisfied: regex!=2019.12.17 in /usr/local/lib/python3.7/dist-packages (from transformers) (2022.6.2)\n",
            "Requirement already satisfied: numpy>=1.17 in /usr/local/lib/python3.7/dist-packages (from transformers) (1.21.6)\n",
            "Requirement already satisfied: typing-extensions>=3.7.4.3 in /usr/local/lib/python3.7/dist-packages (from huggingface-hub<1.0,>=0.1.0->transformers) (4.1.1)\n",
            "Requirement already satisfied: pyparsing!=3.0.5,>=2.0.2 in /usr/local/lib/python3.7/dist-packages (from packaging>=20.0->transformers) (3.0.9)\n",
            "Requirement already satisfied: zipp>=0.5 in /usr/local/lib/python3.7/dist-packages (from importlib-metadata->transformers) (3.8.0)\n",
            "Requirement already satisfied: idna<3,>=2.5 in /usr/local/lib/python3.7/dist-packages (from requests->transformers) (2.10)\n",
            "Requirement already satisfied: certifi>=2017.4.17 in /usr/local/lib/python3.7/dist-packages (from requests->transformers) (2022.6.15)\n",
            "Requirement already satisfied: chardet<4,>=3.0.2 in /usr/local/lib/python3.7/dist-packages (from requests->transformers) (3.0.4)\n",
            "Requirement already satisfied: urllib3!=1.25.0,!=1.25.1,<1.26,>=1.21.1 in /usr/local/lib/python3.7/dist-packages (from requests->transformers) (1.24.3)\n",
            "Installing collected packages: pyyaml, tokenizers, huggingface-hub, transformers\n",
            "  Attempting uninstall: pyyaml\n",
            "    Found existing installation: PyYAML 3.13\n",
            "    Uninstalling PyYAML-3.13:\n",
            "      Successfully uninstalled PyYAML-3.13\n",
            "Successfully installed huggingface-hub-0.8.1 pyyaml-6.0 tokenizers-0.12.1 transformers-4.20.1\n"
          ]
        }
      ]
    },
    {
      "cell_type": "markdown",
      "source": [
        "We will be fine-tuning the `bert-base-cased` model that we will leverage via the Huggingface Transformers library.\n",
        "\n",
        "This model expects a max sequence length of 512. Let's set that variable here."
      ],
      "metadata": {
        "id": "5PVaktvkXs8j"
      }
    },
    {
      "cell_type": "code",
      "source": [
        "seq_len = 512 # this is the encoding size expected by the BERT model we'll be using\n",
        "num_samples = len(df) # 76478\n",
        "\n",
        "num_samples, seq_len"
      ],
      "metadata": {
        "colab": {
          "base_uri": "https://localhost:8080/"
        },
        "id": "EtWnoqMhXlt4",
        "outputId": "63cfd5ac-9160-4b2c-8863-4cec80e9737f"
      },
      "execution_count": 5,
      "outputs": [
        {
          "output_type": "execute_result",
          "data": {
            "text/plain": [
              "(76478, 512)"
            ]
          },
          "metadata": {},
          "execution_count": 5
        }
      ]
    },
    {
      "cell_type": "code",
      "source": [
        "from transformers import BertTokenizer"
      ],
      "metadata": {
        "id": "LMBpJVjkXluw"
      },
      "execution_count": 6,
      "outputs": []
    },
    {
      "cell_type": "code",
      "source": [
        "tokenizer = BertTokenizer.from_pretrained('bert-base-cased')"
      ],
      "metadata": {
        "colab": {
          "base_uri": "https://localhost:8080/",
          "height": 113,
          "referenced_widgets": [
            "4edf0a35ed904c0eb5f91feba05c36bb",
            "c1cc5d6929e449bfa273abe372edccde",
            "383342f56cb64689b61d71b9d8121890",
            "538393ef92bb4777ae40d234f5339737",
            "70ed9571e00f490da4a1d7b16843c9eb",
            "64af93659e3645409f23e16bb28885ca",
            "dd4f5906b0b34b359991c4d8643532d3",
            "8193cab6ba9c4105b378f33fe86bd877",
            "97d5c3595f5c48bd90189c2984d1e53b",
            "131b83225c7c49b2a080f0fc25c8dcbb",
            "84dd13f3a0c94bcbbcd4389c3a43391e",
            "fb30969f59dc4decaa37afa63cef28a0",
            "58a39159dc07456988d6624e04e44d21",
            "be19660ad5f948b9962ffff8457574c8",
            "1b7c03fff4444773b77e7a4e950efc41",
            "1e012a88e972400ca5565788e6ea4305",
            "3d3c0898bbd741a79a4a461f56db52d6",
            "61492b349913445fbf40f03844124590",
            "fa2aa6880bcf4bee82453f5a8728935d",
            "83467cd81a8247388bd5e1118b6454ab",
            "8725ab1347e84f54b2b865022f11b7e3",
            "54b05c74dab649d999874d8667365ce7",
            "3c23a219ebf442d6b6be13c330c36db5",
            "f1151a76623a485c9a9ed47ef676936b",
            "6e981d0691284257b92c5e7b6cfbd28f",
            "5a1a05887f3b46ac96dc8db8479a676b",
            "13149cedffbc4e93894bd2e0c6a50536",
            "44e5f96cdd4b4fbf8cb43295270ea2eb",
            "b1c1446f7f074b32a18e0481f376f5a1",
            "0aaef52261134ecbae6e68fbb2a9da85",
            "a862aa1a9aae43f5b0303503cd5ca2d4",
            "147f717b3c104832ab7eb6789fa1e2f9",
            "d686f7fd5c4c4d9eac01123cbd514b6d"
          ]
        },
        "id": "_fWbqwxaXlwn",
        "outputId": "8c686566-51a7-4d7c-9284-8e9900da1ed1"
      },
      "execution_count": 7,
      "outputs": [
        {
          "output_type": "display_data",
          "data": {
            "text/plain": [
              "Downloading:   0%|          | 0.00/208k [00:00<?, ?B/s]"
            ],
            "application/vnd.jupyter.widget-view+json": {
              "version_major": 2,
              "version_minor": 0,
              "model_id": "4edf0a35ed904c0eb5f91feba05c36bb"
            }
          },
          "metadata": {}
        },
        {
          "output_type": "display_data",
          "data": {
            "text/plain": [
              "Downloading:   0%|          | 0.00/29.0 [00:00<?, ?B/s]"
            ],
            "application/vnd.jupyter.widget-view+json": {
              "version_major": 2,
              "version_minor": 0,
              "model_id": "fb30969f59dc4decaa37afa63cef28a0"
            }
          },
          "metadata": {}
        },
        {
          "output_type": "display_data",
          "data": {
            "text/plain": [
              "Downloading:   0%|          | 0.00/570 [00:00<?, ?B/s]"
            ],
            "application/vnd.jupyter.widget-view+json": {
              "version_major": 2,
              "version_minor": 0,
              "model_id": "3c23a219ebf442d6b6be13c330c36db5"
            }
          },
          "metadata": {}
        }
      ]
    },
    {
      "cell_type": "markdown",
      "source": [
        "Let's turn all our texts from the 'Phrase' column of our dataframe into tokens"
      ],
      "metadata": {
        "id": "ccQecdZ-ZMhC"
      }
    },
    {
      "cell_type": "code",
      "source": [
        "# the texts are found in the 'Phrase' col in our df\n",
        "# N.B. the input arg must be a list (not a pd Series)\n",
        "tokens = tokenizer(df['Phrase'].to_list(),\n",
        "                   max_length=seq_len,\n",
        "                   truncation=True, # truncate if longer than max length\n",
        "                   padding='max_length', # pad if shorter than max length\n",
        "                   add_special_tokens=True,\n",
        "                   return_tensors='np') # returning NumPy arrays"
      ],
      "metadata": {
        "id": "2j9o56L-XlzV"
      },
      "execution_count": 8,
      "outputs": []
    },
    {
      "cell_type": "code",
      "source": [
        "tokens.keys()"
      ],
      "metadata": {
        "colab": {
          "base_uri": "https://localhost:8080/"
        },
        "id": "7Pa1e9CUXl2D",
        "outputId": "8d12bafe-4547-4c28-a481-919fb677e341"
      },
      "execution_count": 9,
      "outputs": [
        {
          "output_type": "execute_result",
          "data": {
            "text/plain": [
              "dict_keys(['input_ids', 'token_type_ids', 'attention_mask'])"
            ]
          },
          "metadata": {},
          "execution_count": 9
        }
      ]
    },
    {
      "cell_type": "markdown",
      "source": [
        "We will be using the \"input_ids\" and the \"attention_mask\" arrays"
      ],
      "metadata": {
        "id": "t1sYWk8pZvvb"
      }
    },
    {
      "cell_type": "code",
      "source": [
        "tokens['input_ids']"
      ],
      "metadata": {
        "colab": {
          "base_uri": "https://localhost:8080/"
        },
        "id": "s_7f16n7Xl4s",
        "outputId": "ea7fe9a0-6700-4302-cef4-b7d004bb01e5"
      },
      "execution_count": 10,
      "outputs": [
        {
          "output_type": "execute_result",
          "data": {
            "text/plain": [
              "array([[  101,   138,  1326, ...,     0,     0,     0],\n",
              "       [  101,  1363,  1111, ...,     0,     0,     0],\n",
              "       [  101,  1363,   102, ...,     0,     0,     0],\n",
              "       ...,\n",
              "       [  101, 12928,  1105, ...,     0,     0,     0],\n",
              "       [  101,  2257,   170, ...,     0,     0,     0],\n",
              "       [  101,   170, 25247, ...,     0,     0,     0]])"
            ]
          },
          "metadata": {},
          "execution_count": 10
        }
      ]
    },
    {
      "cell_type": "code",
      "source": [
        "tokens['attention_mask']"
      ],
      "metadata": {
        "colab": {
          "base_uri": "https://localhost:8080/"
        },
        "id": "TNGbTxSeXl7Y",
        "outputId": "2b85dd5d-07b0-45a1-e178-bace9f339631"
      },
      "execution_count": 11,
      "outputs": [
        {
          "output_type": "execute_result",
          "data": {
            "text/plain": [
              "array([[1, 1, 1, ..., 0, 0, 0],\n",
              "       [1, 1, 1, ..., 0, 0, 0],\n",
              "       [1, 1, 1, ..., 0, 0, 0],\n",
              "       ...,\n",
              "       [1, 1, 1, ..., 0, 0, 0],\n",
              "       [1, 1, 1, ..., 0, 0, 0],\n",
              "       [1, 1, 1, ..., 0, 0, 0]])"
            ]
          },
          "metadata": {},
          "execution_count": 11
        }
      ]
    },
    {
      "cell_type": "markdown",
      "source": [
        "#### SAVING THE INPUT ARRAYS"
      ],
      "metadata": {
        "id": "ysP1WB3c4DSQ"
      }
    },
    {
      "cell_type": "markdown",
      "source": [
        "Let's save these arrays as NumPy binary files"
      ],
      "metadata": {
        "id": "nxNQqAIRZ5Tg"
      }
    },
    {
      "cell_type": "code",
      "source": [
        "import numpy as np"
      ],
      "metadata": {
        "id": "Moa4ihwMaPRI"
      },
      "execution_count": 12,
      "outputs": []
    },
    {
      "cell_type": "code",
      "source": [
        "with open('movie-xids.npy', 'wb') as f:\n",
        "  np.save(f, tokens['input_ids'])"
      ],
      "metadata": {
        "id": "jmaG0aiTXl-g"
      },
      "execution_count": 13,
      "outputs": []
    },
    {
      "cell_type": "code",
      "source": [
        "with open('movie-xmask.npy', 'wb') as f:\n",
        "  np.save(f, tokens['attention_mask'])"
      ],
      "metadata": {
        "id": "ZjnRzTxbaGw5"
      },
      "execution_count": 14,
      "outputs": []
    },
    {
      "cell_type": "code",
      "source": [
        "!ls"
      ],
      "metadata": {
        "colab": {
          "base_uri": "https://localhost:8080/"
        },
        "id": "bCJ7umwoaG73",
        "outputId": "a843e510-ddf6-4e65-b3d4-56970cb24cb9"
      },
      "execution_count": 15,
      "outputs": [
        {
          "output_type": "stream",
          "name": "stdout",
          "text": [
            "movie-xids.npy\tmovie-xmask.npy  sample_data\n"
          ]
        }
      ]
    },
    {
      "cell_type": "markdown",
      "source": [
        "Now we need to extract the labels from the \"Sentiment\" column of our df and convert those too to a NumPy array and save it as a NumPy binary file"
      ],
      "metadata": {
        "id": "eJ_LMSiHaaYv"
      }
    },
    {
      "cell_type": "code",
      "source": [
        "arr = df['Sentiment'].values"
      ],
      "metadata": {
        "id": "RNrsoZaxaG8w"
      },
      "execution_count": 16,
      "outputs": []
    },
    {
      "cell_type": "code",
      "source": [
        "arr"
      ],
      "metadata": {
        "colab": {
          "base_uri": "https://localhost:8080/"
        },
        "id": "BmK0fBqiaG-o",
        "outputId": "09cdbf62-4daa-4569-a652-787ccd3b4a44"
      },
      "execution_count": 17,
      "outputs": [
        {
          "output_type": "execute_result",
          "data": {
            "text/plain": [
              "array([0, 1, 1, ..., 0, 0, 1])"
            ]
          },
          "metadata": {},
          "execution_count": 17
        }
      ]
    },
    {
      "cell_type": "markdown",
      "source": [
        "We need to transform this array into another array whose two dimensions will be\n",
        "- the size of our dataframe (i.e. num_samples)\n",
        "- the number of classes (i.e. 2) (arr.max()+1)\n",
        "\n",
        "So whenever we have a 0 in our array, we want to have [1, 0] in our new array\n",
        "\n",
        "And whenever we have a 1 in our array, we want to have [0, 1] in our new array.\n",
        "\n",
        "- 0 = [1, 0]\n",
        "- 1 = [0, 1]"
      ],
      "metadata": {
        "id": "RwsGhjDqa6LO"
      }
    },
    {
      "cell_type": "code",
      "source": [
        "labels = np.zeros((num_samples, arr.max()+1)) # (76478, 2)"
      ],
      "metadata": {
        "id": "C6jfcOVUaHBc"
      },
      "execution_count": 18,
      "outputs": []
    },
    {
      "cell_type": "code",
      "source": [
        "labels.shape"
      ],
      "metadata": {
        "colab": {
          "base_uri": "https://localhost:8080/"
        },
        "id": "0kzQEaR8aHD3",
        "outputId": "d1f2332c-64e4-4e54-bf83-1474878970b9"
      },
      "execution_count": 19,
      "outputs": [
        {
          "output_type": "execute_result",
          "data": {
            "text/plain": [
              "(76478, 2)"
            ]
          },
          "metadata": {},
          "execution_count": 19
        }
      ]
    },
    {
      "cell_type": "code",
      "source": [
        "labels"
      ],
      "metadata": {
        "colab": {
          "base_uri": "https://localhost:8080/"
        },
        "id": "jtYrSV3Kby61",
        "outputId": "9d1ab1b4-eb65-42a1-b0eb-d456f1ec68c8"
      },
      "execution_count": 20,
      "outputs": [
        {
          "output_type": "execute_result",
          "data": {
            "text/plain": [
              "array([[0., 0.],\n",
              "       [0., 0.],\n",
              "       [0., 0.],\n",
              "       ...,\n",
              "       [0., 0.],\n",
              "       [0., 0.],\n",
              "       [0., 0.]])"
            ]
          },
          "metadata": {},
          "execution_count": 20
        }
      ]
    },
    {
      "cell_type": "code",
      "source": [
        "labels[np.arange(num_samples), arr] = 1"
      ],
      "metadata": {
        "id": "PVVJ-SnJby75"
      },
      "execution_count": 21,
      "outputs": []
    },
    {
      "cell_type": "code",
      "source": [
        "labels"
      ],
      "metadata": {
        "colab": {
          "base_uri": "https://localhost:8080/"
        },
        "id": "n3iMxt6Pby9_",
        "outputId": "1c6712a8-4e2e-423e-e44e-68a838d030ba"
      },
      "execution_count": 22,
      "outputs": [
        {
          "output_type": "execute_result",
          "data": {
            "text/plain": [
              "array([[1., 0.],\n",
              "       [0., 1.],\n",
              "       [0., 1.],\n",
              "       ...,\n",
              "       [1., 0.],\n",
              "       [1., 0.],\n",
              "       [0., 1.]])"
            ]
          },
          "metadata": {},
          "execution_count": 22
        }
      ]
    },
    {
      "cell_type": "code",
      "source": [
        "with open('movie-labels.npy', 'wb') as f:\n",
        "  np.save(f, labels)"
      ],
      "metadata": {
        "id": "in5R14oGcqxk"
      },
      "execution_count": 23,
      "outputs": []
    },
    {
      "cell_type": "code",
      "source": [
        "!ls"
      ],
      "metadata": {
        "colab": {
          "base_uri": "https://localhost:8080/"
        },
        "id": "0MuNKC6HcytA",
        "outputId": "723f2403-047a-48ba-f460-854231b85cd8"
      },
      "execution_count": 24,
      "outputs": [
        {
          "output_type": "stream",
          "name": "stdout",
          "text": [
            "movie-labels.npy  movie-xids.npy  movie-xmask.npy  sample_data\n"
          ]
        }
      ]
    },
    {
      "cell_type": "markdown",
      "source": [
        "## B) INPUT PIPELINE"
      ],
      "metadata": {
        "id": "-vxX_XjRwbHQ"
      }
    },
    {
      "cell_type": "markdown",
      "source": [
        "Our goal here will be to create\n",
        "- a training set\n",
        "- a test/validation set\n",
        "\n",
        "Each one ready to be fed to our custom model in batches of 16 samples of ({xids, xmask}, label) tuples of shape ({512, 512}, 2) corresponding to (inputs, outputs).\n",
        "\n",
        "That is: ({(16, 512), (16, 512)}, (16, 2))\n"
      ],
      "metadata": {
        "id": "cX8sTyH7xwZC"
      }
    },
    {
      "cell_type": "code",
      "source": [
        "# import numpy as np\n",
        "\n",
        "with open('movie-xids.npy', 'rb') as f:\n",
        "    Xids = np.load(f, allow_pickle=True)\n",
        "with open('movie-xmask.npy', 'rb') as f:\n",
        "    Xmask = np.load(f, allow_pickle=True)\n",
        "with open('movie-labels.npy', 'rb') as f:\n",
        "    labels = np.load(f, allow_pickle=True)"
      ],
      "metadata": {
        "id": "IjpihYxRwcR1"
      },
      "execution_count": 25,
      "outputs": []
    },
    {
      "cell_type": "markdown",
      "source": [
        "First we need to create a TensorFlow Dataset object with our three numpy files containing the `input_ids`, the `attention_mask` and the `labels` arrays"
      ],
      "metadata": {
        "id": "PDr3NzrLxoVm"
      }
    },
    {
      "cell_type": "code",
      "source": [
        "import tensorflow as tf"
      ],
      "metadata": {
        "id": "GyENRpZLwcSv"
      },
      "execution_count": 26,
      "outputs": []
    },
    {
      "cell_type": "code",
      "source": [
        "from tensorflow.data import Dataset"
      ],
      "metadata": {
        "id": "gCUGjbAUwcUW"
      },
      "execution_count": 27,
      "outputs": []
    },
    {
      "cell_type": "markdown",
      "source": [
        "The `.from_tensor_slices()` method will map the arrays onto each other.\n",
        "\n",
        "It expects a tuple as input.\n",
        "\n",
        "An input such as:\n",
        "\n",
        "([1, 2], [3, 4], [5, 6])\n",
        "\n",
        "will be mapped as:\n",
        "\n",
        "[(1, 3, 5) (2, 4, 6)]"
      ],
      "metadata": {
        "id": "Eqne_52QzWD1"
      }
    },
    {
      "cell_type": "code",
      "source": [
        "dataset = Dataset.from_tensor_slices((Xids, Xmask, labels))"
      ],
      "metadata": {
        "id": "iidEQ1l7wcXT"
      },
      "execution_count": 28,
      "outputs": []
    },
    {
      "cell_type": "code",
      "source": [
        "type(dataset)"
      ],
      "metadata": {
        "colab": {
          "base_uri": "https://localhost:8080/"
        },
        "id": "wqjkscQ7wcaF",
        "outputId": "3c38a411-b624-4bde-bd29-dcaa07a5158a"
      },
      "execution_count": 29,
      "outputs": [
        {
          "output_type": "execute_result",
          "data": {
            "text/plain": [
              "tensorflow.python.data.ops.dataset_ops.TensorSliceDataset"
            ]
          },
          "metadata": {},
          "execution_count": 29
        }
      ]
    },
    {
      "cell_type": "code",
      "source": [
        "dataset"
      ],
      "metadata": {
        "colab": {
          "base_uri": "https://localhost:8080/"
        },
        "id": "XgUQK7OC0zBy",
        "outputId": "d7ff4405-88a6-430c-f46e-9a1a21a73533"
      },
      "execution_count": 30,
      "outputs": [
        {
          "output_type": "execute_result",
          "data": {
            "text/plain": [
              "<TensorSliceDataset element_spec=(TensorSpec(shape=(512,), dtype=tf.int64, name=None), TensorSpec(shape=(512,), dtype=tf.int64, name=None), TensorSpec(shape=(2,), dtype=tf.float64, name=None))>"
            ]
          },
          "metadata": {},
          "execution_count": 30
        }
      ]
    },
    {
      "cell_type": "code",
      "source": [
        "dataset.take(1)"
      ],
      "metadata": {
        "colab": {
          "base_uri": "https://localhost:8080/"
        },
        "id": "s7_kTvaD0zCw",
        "outputId": "73a68acd-dc6b-4a78-8c07-d71fe895d6d7"
      },
      "execution_count": 31,
      "outputs": [
        {
          "output_type": "execute_result",
          "data": {
            "text/plain": [
              "<TakeDataset element_spec=(TensorSpec(shape=(512,), dtype=tf.int64, name=None), TensorSpec(shape=(512,), dtype=tf.int64, name=None), TensorSpec(shape=(2,), dtype=tf.float64, name=None))>"
            ]
          },
          "metadata": {},
          "execution_count": 31
        }
      ]
    },
    {
      "cell_type": "markdown",
      "source": [
        "So our dataset shape is (512, 512, 2)"
      ],
      "metadata": {
        "id": "gUWe7Hhv1IiS"
      }
    },
    {
      "cell_type": "markdown",
      "source": [
        "To feed our dataset into our model we need a tuple with two items:\n",
        "\n",
        "`(inputs, outputs)`\n",
        "\n",
        "However, here we have two matrices as inputs (Xids, Xmask), as each sample in our dataset is a tuple containing a single Xid, Xmask and label, so our first variable \"inputs\" will have to be a dict like the following (followed by the outputs, i.e. the labels):\n",
        "\n",
        "```\n",
        "(\n",
        "  {\n",
        "   input_ids': *input_id_tensor*,\n",
        "   'attention_mask': *attention_mask_tensor*\n",
        "  },\n",
        " labels\n",
        ")\n",
        "```\n",
        "\n",
        "So let's rearrange our dataset like that and convert a three-item tuple into a two-item tuple. Let's create a custom function for that."
      ],
      "metadata": {
        "id": "YRoPYcwZ1YFX"
      }
    },
    {
      "cell_type": "code",
      "source": [
        "def map_inputs(input_ids, masks, labels):\n",
        "  return {'input_ids': input_ids, 'attention_mask': masks},  labels"
      ],
      "metadata": {
        "id": "Fs_jBQ5D1XEk"
      },
      "execution_count": 32,
      "outputs": []
    },
    {
      "cell_type": "markdown",
      "source": [
        "Then we use the `Dataset.map()` method to actually map/apply our `map_inputs()` function to each sample set"
      ],
      "metadata": {
        "id": "4PQqcDUb22JZ"
      }
    },
    {
      "cell_type": "code",
      "source": [
        "dataset = dataset.map(map_inputs)"
      ],
      "metadata": {
        "id": "6gmvqmSA00FK"
      },
      "execution_count": 33,
      "outputs": []
    },
    {
      "cell_type": "code",
      "source": [
        "dataset"
      ],
      "metadata": {
        "colab": {
          "base_uri": "https://localhost:8080/"
        },
        "id": "tEZCWV7o00GO",
        "outputId": "685916fd-f4de-4b42-8b11-1c04a617bb9e"
      },
      "execution_count": 34,
      "outputs": [
        {
          "output_type": "execute_result",
          "data": {
            "text/plain": [
              "<MapDataset element_spec=({'input_ids': TensorSpec(shape=(512,), dtype=tf.int64, name=None), 'attention_mask': TensorSpec(shape=(512,), dtype=tf.int64, name=None)}, TensorSpec(shape=(2,), dtype=tf.float64, name=None))>"
            ]
          },
          "metadata": {},
          "execution_count": 34
        }
      ]
    },
    {
      "cell_type": "code",
      "source": [
        "dataset.take(1)"
      ],
      "metadata": {
        "colab": {
          "base_uri": "https://localhost:8080/"
        },
        "id": "U70Ok_5S4N6v",
        "outputId": "c99f1e9f-e60f-48f4-9cb1-4ed0a1d35c15"
      },
      "execution_count": 35,
      "outputs": [
        {
          "output_type": "execute_result",
          "data": {
            "text/plain": [
              "<TakeDataset element_spec=({'input_ids': TensorSpec(shape=(512,), dtype=tf.int64, name=None), 'attention_mask': TensorSpec(shape=(512,), dtype=tf.int64, name=None)}, TensorSpec(shape=(2,), dtype=tf.float64, name=None))>"
            ]
          },
          "metadata": {},
          "execution_count": 35
        }
      ]
    },
    {
      "cell_type": "markdown",
      "source": [
        "Now you can see the ({512, 512}, 2) shaped tuple that we wanted."
      ],
      "metadata": {
        "id": "qspJBx4Z3J0L"
      }
    },
    {
      "cell_type": "markdown",
      "source": [
        "Now we shall shuffle and batch our data.\n",
        "\n",
        "It's useful to shuffle before batching, so that the data within each batch will already be more mixed."
      ],
      "metadata": {
        "id": "eOWsc7nV3re1"
      }
    },
    {
      "cell_type": "code",
      "source": [
        "batch_size = 16"
      ],
      "metadata": {
        "id": "RY6bJs6J00H7"
      },
      "execution_count": 36,
      "outputs": []
    },
    {
      "cell_type": "code",
      "source": [
        "dataset = dataset.shuffle(10000).batch(batch_size, drop_remainder=True)\n",
        "\n",
        "# drop_remainder=True will drop remaining items that don't fit into a batch"
      ],
      "metadata": {
        "id": "-4NvpkDv00KR"
      },
      "execution_count": 37,
      "outputs": []
    },
    {
      "cell_type": "code",
      "source": [
        "dataset"
      ],
      "metadata": {
        "colab": {
          "base_uri": "https://localhost:8080/"
        },
        "id": "zjMO1C0q4UMR",
        "outputId": "826724b5-a50b-424d-cb58-2d931c205da7"
      },
      "execution_count": 38,
      "outputs": [
        {
          "output_type": "execute_result",
          "data": {
            "text/plain": [
              "<BatchDataset element_spec=({'input_ids': TensorSpec(shape=(16, 512), dtype=tf.int64, name=None), 'attention_mask': TensorSpec(shape=(16, 512), dtype=tf.int64, name=None)}, TensorSpec(shape=(16, 2), dtype=tf.float64, name=None))>"
            ]
          },
          "metadata": {},
          "execution_count": 38
        }
      ]
    },
    {
      "cell_type": "code",
      "source": [
        "dataset.take(1)"
      ],
      "metadata": {
        "colab": {
          "base_uri": "https://localhost:8080/"
        },
        "id": "lc7DeBSb4UNc",
        "outputId": "c83861dd-c6c3-4f9f-f1ba-268e0ebd48e5"
      },
      "execution_count": 39,
      "outputs": [
        {
          "output_type": "execute_result",
          "data": {
            "text/plain": [
              "<TakeDataset element_spec=({'input_ids': TensorSpec(shape=(16, 512), dtype=tf.int64, name=None), 'attention_mask': TensorSpec(shape=(16, 512), dtype=tf.int64, name=None)}, TensorSpec(shape=(16, 2), dtype=tf.float64, name=None))>"
            ]
          },
          "metadata": {},
          "execution_count": 39
        }
      ]
    },
    {
      "cell_type": "markdown",
      "source": [
        "So now our dataset is structured into input batches of shape ({(16, 512), (16, 512)}, (16, 2))"
      ],
      "metadata": {
        "id": "3fxgGrmd4Z-9"
      }
    },
    {
      "cell_type": "markdown",
      "source": [
        "Finally we want to split our dataset into\n",
        "- training set\n",
        "- test/validation set"
      ],
      "metadata": {
        "id": "CFZoybUe4y_B"
      }
    },
    {
      "cell_type": "code",
      "source": [
        "# our total data size is\n",
        "size = Xids.shape[0]\n",
        "size"
      ],
      "metadata": {
        "colab": {
          "base_uri": "https://localhost:8080/"
        },
        "id": "i957guFQ4UPC",
        "outputId": "fc16f615-edf4-4597-a18a-341ae77a184b"
      },
      "execution_count": 40,
      "outputs": [
        {
          "output_type": "execute_result",
          "data": {
            "text/plain": [
              "76478"
            ]
          },
          "metadata": {},
          "execution_count": 40
        }
      ]
    },
    {
      "cell_type": "code",
      "source": [
        "# so the total number of batches is\n",
        "size / batch_size"
      ],
      "metadata": {
        "colab": {
          "base_uri": "https://localhost:8080/"
        },
        "id": "ST_0s4b64URv",
        "outputId": "5b93945f-ddbc-4812-ddf3-50579b697306"
      },
      "execution_count": 41,
      "outputs": [
        {
          "output_type": "execute_result",
          "data": {
            "text/plain": [
              "4779.875"
            ]
          },
          "metadata": {},
          "execution_count": 41
        }
      ]
    },
    {
      "cell_type": "code",
      "source": [
        "# let's take 90% of our batches as training data\n",
        "size / batch_size * 0.9"
      ],
      "metadata": {
        "colab": {
          "base_uri": "https://localhost:8080/"
        },
        "id": "2jVlkAFP4UUP",
        "outputId": "c233190f-44f4-4bda-ddea-9d166ad207c6"
      },
      "execution_count": 42,
      "outputs": [
        {
          "output_type": "execute_result",
          "data": {
            "text/plain": [
              "4301.8875"
            ]
          },
          "metadata": {},
          "execution_count": 42
        }
      ]
    },
    {
      "cell_type": "code",
      "source": [
        "# let's approximate\n",
        "int(size / batch_size * 0.9)"
      ],
      "metadata": {
        "colab": {
          "base_uri": "https://localhost:8080/"
        },
        "id": "Mk4zbzMw6pmV",
        "outputId": "c1768066-88cf-488e-99a2-942d5e4ab54d"
      },
      "execution_count": 43,
      "outputs": [
        {
          "output_type": "execute_result",
          "data": {
            "text/plain": [
              "4301"
            ]
          },
          "metadata": {},
          "execution_count": 43
        }
      ]
    },
    {
      "cell_type": "code",
      "source": [
        "train_size = int(size / batch_size * 0.9)\n",
        "train_size"
      ],
      "metadata": {
        "colab": {
          "base_uri": "https://localhost:8080/"
        },
        "id": "xbSgYWE669LI",
        "outputId": "e33c5e03-f450-4469-89ab-7b7e2cf0fda5"
      },
      "execution_count": 44,
      "outputs": [
        {
          "output_type": "execute_result",
          "data": {
            "text/plain": [
              "4301"
            ]
          },
          "metadata": {},
          "execution_count": 44
        }
      ]
    },
    {
      "cell_type": "code",
      "source": [
        "train_ds = dataset.take(train_size)\n",
        "train_ds"
      ],
      "metadata": {
        "colab": {
          "base_uri": "https://localhost:8080/"
        },
        "id": "Ew45Cm3t7EOz",
        "outputId": "f6fa0196-ab68-4a39-9528-54a9e775f7da"
      },
      "execution_count": 45,
      "outputs": [
        {
          "output_type": "execute_result",
          "data": {
            "text/plain": [
              "<TakeDataset element_spec=({'input_ids': TensorSpec(shape=(16, 512), dtype=tf.int64, name=None), 'attention_mask': TensorSpec(shape=(16, 512), dtype=tf.int64, name=None)}, TensorSpec(shape=(16, 2), dtype=tf.float64, name=None))>"
            ]
          },
          "metadata": {},
          "execution_count": 45
        }
      ]
    },
    {
      "cell_type": "code",
      "source": [
        "len(train_ds)"
      ],
      "metadata": {
        "colab": {
          "base_uri": "https://localhost:8080/"
        },
        "id": "y5wKL8li7Qaj",
        "outputId": "cba03587-1b2e-4cd8-8f0b-c3f692336956"
      },
      "execution_count": 46,
      "outputs": [
        {
          "output_type": "execute_result",
          "data": {
            "text/plain": [
              "4301"
            ]
          },
          "metadata": {},
          "execution_count": 46
        }
      ]
    },
    {
      "cell_type": "code",
      "source": [
        "test_ds = dataset.skip(train_size)\n",
        "test_ds"
      ],
      "metadata": {
        "colab": {
          "base_uri": "https://localhost:8080/"
        },
        "id": "S8R8nGne7UJr",
        "outputId": "5663e1ee-6163-4384-da56-c23ca12a7274"
      },
      "execution_count": 47,
      "outputs": [
        {
          "output_type": "execute_result",
          "data": {
            "text/plain": [
              "<SkipDataset element_spec=({'input_ids': TensorSpec(shape=(16, 512), dtype=tf.int64, name=None), 'attention_mask': TensorSpec(shape=(16, 512), dtype=tf.int64, name=None)}, TensorSpec(shape=(16, 2), dtype=tf.float64, name=None))>"
            ]
          },
          "metadata": {},
          "execution_count": 47
        }
      ]
    },
    {
      "cell_type": "code",
      "source": [
        "len(test_ds)"
      ],
      "metadata": {
        "colab": {
          "base_uri": "https://localhost:8080/"
        },
        "id": "E5mgxXr07cA4",
        "outputId": "dc516dca-17a0-49e3-bf04-d08639b1b045"
      },
      "execution_count": 48,
      "outputs": [
        {
          "output_type": "execute_result",
          "data": {
            "text/plain": [
              "478"
            ]
          },
          "metadata": {},
          "execution_count": 48
        }
      ]
    },
    {
      "cell_type": "markdown",
      "source": [
        "So our training set contains 4301 batches\n",
        "\n",
        "And our test set contains 478 batches"
      ],
      "metadata": {
        "id": "HG7RfvHl7ge5"
      }
    },
    {
      "cell_type": "code",
      "source": [
        "4301*16, 479*16, 4301*16+479*16"
      ],
      "metadata": {
        "colab": {
          "base_uri": "https://localhost:8080/"
        },
        "id": "gMppYuvv7fVf",
        "outputId": "4638fb27-0cc4-4e1c-e5ee-5f1526319df5"
      },
      "execution_count": 49,
      "outputs": [
        {
          "output_type": "execute_result",
          "data": {
            "text/plain": [
              "(68816, 7664, 76480)"
            ]
          },
          "metadata": {},
          "execution_count": 49
        }
      ]
    },
    {
      "cell_type": "markdown",
      "source": [
        "We can save our train and test sets"
      ],
      "metadata": {
        "id": "HiOW_Zya74k8"
      }
    },
    {
      "cell_type": "code",
      "source": [
        "tf.data.experimental.save(train_ds, 'train_ds')\n",
        "tf.data.experimental.save(test_ds, 'test_ds')"
      ],
      "metadata": {
        "id": "kP8w7Qtl73bi"
      },
      "execution_count": 50,
      "outputs": []
    },
    {
      "cell_type": "code",
      "source": [
        "!ls"
      ],
      "metadata": {
        "colab": {
          "base_uri": "https://localhost:8080/"
        },
        "id": "uNCbQMqN8Fux",
        "outputId": "0be8de9e-23fd-4b11-e8dd-f4c9abd1fd04"
      },
      "execution_count": 51,
      "outputs": [
        {
          "output_type": "stream",
          "name": "stdout",
          "text": [
            "movie-labels.npy  movie-xmask.npy  test_ds\n",
            "movie-xids.npy\t  sample_data\t   train_ds\n"
          ]
        }
      ]
    },
    {
      "cell_type": "markdown",
      "source": [
        "Note that in order to load these saved datasets later on, we would need to specify the tensors' `element_spec` info, which is a description of the tensors' shape. That's a requirement of the `.load()` method.\n",
        "\n",
        "The two datasets' element specs should be equal."
      ],
      "metadata": {
        "id": "e9gkGlOi8WH8"
      }
    },
    {
      "cell_type": "code",
      "source": [
        "train_ds.element_spec"
      ],
      "metadata": {
        "colab": {
          "base_uri": "https://localhost:8080/"
        },
        "id": "5ntJqOzM8td0",
        "outputId": "573780e8-1682-45b9-9664-f4bb1745ebdc"
      },
      "execution_count": 52,
      "outputs": [
        {
          "output_type": "execute_result",
          "data": {
            "text/plain": [
              "({'attention_mask': TensorSpec(shape=(16, 512), dtype=tf.int64, name=None),\n",
              "  'input_ids': TensorSpec(shape=(16, 512), dtype=tf.int64, name=None)},\n",
              " TensorSpec(shape=(16, 2), dtype=tf.float64, name=None))"
            ]
          },
          "metadata": {},
          "execution_count": 52
        }
      ]
    },
    {
      "cell_type": "code",
      "source": [
        "train_ds.element_spec == test_ds.element_spec"
      ],
      "metadata": {
        "colab": {
          "base_uri": "https://localhost:8080/"
        },
        "id": "-M0DAfLA8Tpy",
        "outputId": "b1935337-65f9-4ca9-a143-437133945c3b"
      },
      "execution_count": 53,
      "outputs": [
        {
          "output_type": "execute_result",
          "data": {
            "text/plain": [
              "True"
            ]
          },
          "metadata": {},
          "execution_count": 53
        }
      ]
    },
    {
      "cell_type": "code",
      "source": [
        "element_spec = train_ds.element_spec\n",
        "element_spec"
      ],
      "metadata": {
        "colab": {
          "base_uri": "https://localhost:8080/"
        },
        "id": "mQV-FalT8Tq-",
        "outputId": "1b3ee83d-b003-4fa6-d84b-779ba6bd86fe"
      },
      "execution_count": 54,
      "outputs": [
        {
          "output_type": "execute_result",
          "data": {
            "text/plain": [
              "({'attention_mask': TensorSpec(shape=(16, 512), dtype=tf.int64, name=None),\n",
              "  'input_ids': TensorSpec(shape=(16, 512), dtype=tf.int64, name=None)},\n",
              " TensorSpec(shape=(16, 2), dtype=tf.float64, name=None))"
            ]
          },
          "metadata": {},
          "execution_count": 54
        }
      ]
    },
    {
      "cell_type": "code",
      "source": [
        "# so if you load the datasets you need to do\n",
        "# train_ds = tf.data.experimental.load('train_ds', element_spec=element_spec)\n",
        "# test_ds = tf.data.experimental.load('test_ds', element_spec=element_spec)\n",
        "\n",
        "# but we don't need to re-load them here"
      ],
      "metadata": {
        "id": "_-8JGFeH8Tsd"
      },
      "execution_count": 55,
      "outputs": []
    },
    {
      "cell_type": "markdown",
      "source": [
        "## C) FINE-TUNING BERT"
      ],
      "metadata": {
        "id": "h_qOYU7T_s66"
      }
    },
    {
      "cell_type": "markdown",
      "source": [
        "#### MODEL STRUCTURE"
      ],
      "metadata": {
        "id": "xVCwqt9wKdBj"
      }
    },
    {
      "cell_type": "markdown",
      "source": [
        "We will use the Huggingface Transformers library to leverage a BERT model, which we will fine-tune for Sentiment Analysis by\n",
        "- specifying how the input is fed into the model\n",
        "- building a custom classifier head"
      ],
      "metadata": {
        "id": "L3oAtaEzBDJZ"
      }
    },
    {
      "cell_type": "code",
      "source": [
        "from transformers import TFAutoModel"
      ],
      "metadata": {
        "id": "w7uje9Ps8Tu2"
      },
      "execution_count": 56,
      "outputs": []
    },
    {
      "cell_type": "code",
      "source": [
        "bert = TFAutoModel.from_pretrained('bert-base-cased')"
      ],
      "metadata": {
        "colab": {
          "base_uri": "https://localhost:8080/",
          "height": 158,
          "referenced_widgets": [
            "c3a4530ec95e4ed5902e661a9367f407",
            "ab316731a08046deb7566029156d684f",
            "ed4b3257008a4cf481d780d5d086f9eb",
            "3e7a1aec35cf4defa763503e125c3650",
            "415486650bb24b7c995e961175041525",
            "0caa60b846f545798dacc9c7b9cdc9d3",
            "9892dbd3bf504190ab3cafb8f212488b",
            "de5aef809fa845e4b4c9d4e64c79ecf2",
            "40be44ccdca447bc8605f31ab5627c2a",
            "8ce25afd2fc845f6abf8ca6cefa95841",
            "bf62b00766e94f308749f911d9736e36"
          ]
        },
        "id": "sFhKsc3f8Txh",
        "outputId": "3eb35fb9-16d5-4d34-ea95-e6dbaa7b6e1a"
      },
      "execution_count": 57,
      "outputs": [
        {
          "output_type": "display_data",
          "data": {
            "text/plain": [
              "Downloading:   0%|          | 0.00/502M [00:00<?, ?B/s]"
            ],
            "application/vnd.jupyter.widget-view+json": {
              "version_major": 2,
              "version_minor": 0,
              "model_id": "c3a4530ec95e4ed5902e661a9367f407"
            }
          },
          "metadata": {}
        },
        {
          "output_type": "stream",
          "name": "stderr",
          "text": [
            "Some layers from the model checkpoint at bert-base-cased were not used when initializing TFBertModel: ['nsp___cls', 'mlm___cls']\n",
            "- This IS expected if you are initializing TFBertModel from the checkpoint of a model trained on another task or with another architecture (e.g. initializing a BertForSequenceClassification model from a BertForPreTraining model).\n",
            "- This IS NOT expected if you are initializing TFBertModel from the checkpoint of a model that you expect to be exactly identical (initializing a BertForSequenceClassification model from a BertForSequenceClassification model).\n",
            "All the layers of TFBertModel were initialized from the model checkpoint at bert-base-cased.\n",
            "If your task is similar to the task the model of the checkpoint was trained on, you can already use TFBertModel for predictions without further training.\n"
          ]
        }
      ]
    },
    {
      "cell_type": "code",
      "source": [
        "bert.summary()"
      ],
      "metadata": {
        "colab": {
          "base_uri": "https://localhost:8080/"
        },
        "id": "fa78Nr4-8T0X",
        "outputId": "68885b37-0ff7-4d5d-eae6-79ec78b2a048"
      },
      "execution_count": 58,
      "outputs": [
        {
          "output_type": "stream",
          "name": "stdout",
          "text": [
            "Model: \"tf_bert_model\"\n",
            "_________________________________________________________________\n",
            " Layer (type)                Output Shape              Param #   \n",
            "=================================================================\n",
            " bert (TFBertMainLayer)      multiple                  108310272 \n",
            "                                                                 \n",
            "=================================================================\n",
            "Total params: 108,310,272\n",
            "Trainable params: 108,310,272\n",
            "Non-trainable params: 0\n",
            "_________________________________________________________________\n"
          ]
        }
      ]
    },
    {
      "cell_type": "markdown",
      "source": [
        "Let's define two input layers\n",
        "- one for the input ids\n",
        "- one for the attention mask"
      ],
      "metadata": {
        "id": "PzteQexgBX-4"
      }
    },
    {
      "cell_type": "code",
      "source": [
        "# import tensorflow\n",
        "# from tensorflow.keras import layers"
      ],
      "metadata": {
        "id": "lTsk8TytA-5m"
      },
      "execution_count": 59,
      "outputs": []
    },
    {
      "cell_type": "code",
      "source": [
        "# shape= this is the max sequence length expected by BERT, its encoding size\n",
        "# name= this must match the dict key that we set in the input tuple\n",
        "# ({'input_ids': ..., 'attention_mask': ...}, labels)\n",
        "input_ids = tf.keras.layers.Input(shape=(512,),\n",
        "                                  name='input_ids',\n",
        "                                  dtype='int32')\n",
        "mask = tf.keras.layers.Input(shape=(512,),\n",
        "                             name='attention_mask',\n",
        "                             dtype='int32')"
      ],
      "metadata": {
        "id": "f2s5D__mB-zo"
      },
      "execution_count": 60,
      "outputs": []
    },
    {
      "cell_type": "markdown",
      "source": [
        "Now we will set the output of these layers to be the input of our BERT model, which shall return the embeddings.\n",
        "\n",
        "Note that our BERT model will return either\n",
        "- non-pooled output / last hidden state (3D) at index [0]\n",
        "- pooled output (2D) at index [1]\n",
        "\n",
        "We shall use the 2D pooled output and feed it into a couple of Dense layers which will perform the Sentiment Analysis Classification task."
      ],
      "metadata": {
        "id": "D3lRSlFQBiBZ"
      }
    },
    {
      "cell_type": "code",
      "source": [
        "embeddings = bert.bert(input_ids,\n",
        "                       attention_mask=mask)[1] # index [1] = pooled output"
      ],
      "metadata": {
        "id": "14xWi8iLA-66"
      },
      "execution_count": 61,
      "outputs": []
    },
    {
      "cell_type": "markdown",
      "source": [
        "Finally we define our classification head with two Dense layers, passing the embeddings as input"
      ],
      "metadata": {
        "id": "-1T5DiP7ESAJ"
      }
    },
    {
      "cell_type": "code",
      "source": [
        "x = tf.keras.layers.Dense(1024, activation='relu')(embeddings)\n",
        "y = tf.keras.layers.Dense(2, activation='softmax',\n",
        "                          name='outputs')(x)"
      ],
      "metadata": {
        "id": "aoW4ns52A-8w"
      },
      "execution_count": 62,
      "outputs": []
    },
    {
      "cell_type": "markdown",
      "source": [
        "Initialize the model"
      ],
      "metadata": {
        "id": "VeH-mpnyGu3C"
      }
    },
    {
      "cell_type": "code",
      "source": [
        "model = tf.keras.Model(inputs=[input_ids, mask], outputs=y)"
      ],
      "metadata": {
        "id": "hxUAWmAQA_AI"
      },
      "execution_count": 63,
      "outputs": []
    },
    {
      "cell_type": "code",
      "source": [
        "model.summary()"
      ],
      "metadata": {
        "colab": {
          "base_uri": "https://localhost:8080/"
        },
        "id": "WKGlThz6Jb8p",
        "outputId": "4e574a5a-2272-4118-997a-6e0af47095a9"
      },
      "execution_count": 64,
      "outputs": [
        {
          "output_type": "stream",
          "name": "stdout",
          "text": [
            "Model: \"model\"\n",
            "__________________________________________________________________________________________________\n",
            " Layer (type)                   Output Shape         Param #     Connected to                     \n",
            "==================================================================================================\n",
            " input_ids (InputLayer)         [(None, 512)]        0           []                               \n",
            "                                                                                                  \n",
            " attention_mask (InputLayer)    [(None, 512)]        0           []                               \n",
            "                                                                                                  \n",
            " bert (TFBertMainLayer)         TFBaseModelOutputWi  108310272   ['input_ids[0][0]',              \n",
            "                                thPoolingAndCrossAt               'attention_mask[0][0]']         \n",
            "                                tentions(last_hidde                                               \n",
            "                                n_state=(None, 512,                                               \n",
            "                                 768),                                                            \n",
            "                                 pooler_output=(Non                                               \n",
            "                                e, 768),                                                          \n",
            "                                 past_key_values=No                                               \n",
            "                                ne, hidden_states=N                                               \n",
            "                                one, attentions=Non                                               \n",
            "                                e, cross_attentions                                               \n",
            "                                =None)                                                            \n",
            "                                                                                                  \n",
            " dense (Dense)                  (None, 1024)         787456      ['bert[0][1]']                   \n",
            "                                                                                                  \n",
            " outputs (Dense)                (None, 2)            2050        ['dense[0][0]']                  \n",
            "                                                                                                  \n",
            "==================================================================================================\n",
            "Total params: 109,099,778\n",
            "Trainable params: 109,099,778\n",
            "Non-trainable params: 0\n",
            "__________________________________________________________________________________________________\n"
          ]
        }
      ]
    },
    {
      "cell_type": "markdown",
      "source": [
        "We don't need to optimize the BERT layer, so we will freeze it and train the rest"
      ],
      "metadata": {
        "id": "NWIN3sbSJNAV"
      }
    },
    {
      "cell_type": "code",
      "source": [
        "# the BERT layer is at index [2]\n",
        "model.layers[2].trainable = False"
      ],
      "metadata": {
        "id": "ZZ13N-DHA_Ci"
      },
      "execution_count": 65,
      "outputs": []
    },
    {
      "cell_type": "code",
      "source": [
        "model.summary()"
      ],
      "metadata": {
        "colab": {
          "base_uri": "https://localhost:8080/"
        },
        "id": "wvjH0zIPA_FO",
        "outputId": "8ec95fb9-0394-4f66-da61-10dff7016835"
      },
      "execution_count": 66,
      "outputs": [
        {
          "output_type": "stream",
          "name": "stdout",
          "text": [
            "Model: \"model\"\n",
            "__________________________________________________________________________________________________\n",
            " Layer (type)                   Output Shape         Param #     Connected to                     \n",
            "==================================================================================================\n",
            " input_ids (InputLayer)         [(None, 512)]        0           []                               \n",
            "                                                                                                  \n",
            " attention_mask (InputLayer)    [(None, 512)]        0           []                               \n",
            "                                                                                                  \n",
            " bert (TFBertMainLayer)         TFBaseModelOutputWi  108310272   ['input_ids[0][0]',              \n",
            "                                thPoolingAndCrossAt               'attention_mask[0][0]']         \n",
            "                                tentions(last_hidde                                               \n",
            "                                n_state=(None, 512,                                               \n",
            "                                 768),                                                            \n",
            "                                 pooler_output=(Non                                               \n",
            "                                e, 768),                                                          \n",
            "                                 past_key_values=No                                               \n",
            "                                ne, hidden_states=N                                               \n",
            "                                one, attentions=Non                                               \n",
            "                                e, cross_attentions                                               \n",
            "                                =None)                                                            \n",
            "                                                                                                  \n",
            " dense (Dense)                  (None, 1024)         787456      ['bert[0][1]']                   \n",
            "                                                                                                  \n",
            " outputs (Dense)                (None, 2)            2050        ['dense[0][0]']                  \n",
            "                                                                                                  \n",
            "==================================================================================================\n",
            "Total params: 109,099,778\n",
            "Trainable params: 789,506\n",
            "Non-trainable params: 108,310,272\n",
            "__________________________________________________________________________________________________\n"
          ]
        }
      ]
    },
    {
      "cell_type": "markdown",
      "source": [
        "As you can see the number of \"Trainable params\" has reduced."
      ],
      "metadata": {
        "id": "PJu44n1gKSmG"
      }
    },
    {
      "cell_type": "markdown",
      "source": [
        "#### TRAINING PARAMETERS"
      ],
      "metadata": {
        "id": "pJItXXwTKj4_"
      }
    },
    {
      "cell_type": "code",
      "source": [
        "optimizer = tf.keras.optimizers.Adam(lr=5e-5, decay=1e-6) \n",
        "# these are recommended values for training BERT models"
      ],
      "metadata": {
        "colab": {
          "base_uri": "https://localhost:8080/"
        },
        "id": "F_CFB4sgA_If",
        "outputId": "adedd36c-3063-4512-ec72-01b5d6c119ed"
      },
      "execution_count": 67,
      "outputs": [
        {
          "output_type": "stream",
          "name": "stderr",
          "text": [
            "/usr/local/lib/python3.7/dist-packages/keras/optimizer_v2/adam.py:105: UserWarning: The `lr` argument is deprecated, use `learning_rate` instead.\n",
            "  super(Adam, self).__init__(name, **kwargs)\n"
          ]
        }
      ]
    },
    {
      "cell_type": "code",
      "source": [
        "loss = tf.keras.losses.CategoricalCrossentropy()"
      ],
      "metadata": {
        "id": "8c_wITcHA_Xf"
      },
      "execution_count": 68,
      "outputs": []
    },
    {
      "cell_type": "code",
      "source": [
        "acc = tf.keras.metrics.CategoricalAccuracy('accuracy')"
      ],
      "metadata": {
        "id": "M9gTAfrJA_Yn"
      },
      "execution_count": 69,
      "outputs": []
    },
    {
      "cell_type": "markdown",
      "source": [
        "#### COMPILE"
      ],
      "metadata": {
        "id": "_vKg9QxbL78w"
      }
    },
    {
      "cell_type": "code",
      "source": [
        "model.compile(optimizer=optimizer,\n",
        "              loss=loss,\n",
        "              metrics=[acc])"
      ],
      "metadata": {
        "id": "LSLsmiMlL9mG"
      },
      "execution_count": 70,
      "outputs": []
    },
    {
      "cell_type": "markdown",
      "source": [
        "#### TRAIN"
      ],
      "metadata": {
        "id": "6yNLNVMbMlXr"
      }
    },
    {
      "cell_type": "code",
      "source": [
        "history = model.fit(\n",
        "    train_ds,\n",
        "    validation_data=test_ds,\n",
        "    epochs=5\n",
        ")"
      ],
      "metadata": {
        "colab": {
          "base_uri": "https://localhost:8080/"
        },
        "id": "Zdr3l195MoTl",
        "outputId": "ad48e6e3-4ed8-42b1-db2d-d79f7cce51f7"
      },
      "execution_count": 72,
      "outputs": [
        {
          "output_type": "stream",
          "name": "stdout",
          "text": [
            "Epoch 1/5\n",
            "4301/4301 [==============================] - 1974s 459ms/step - loss: 0.5371 - accuracy: 0.7264 - val_loss: 0.4484 - val_accuracy: 0.7975\n",
            "Epoch 2/5\n",
            "4301/4301 [==============================] - 1977s 460ms/step - loss: 0.4837 - accuracy: 0.7681 - val_loss: 0.4280 - val_accuracy: 0.8057\n",
            "Epoch 3/5\n",
            "4301/4301 [==============================] - 1974s 459ms/step - loss: 0.4698 - accuracy: 0.7768 - val_loss: 0.4637 - val_accuracy: 0.7796\n",
            "Epoch 4/5\n",
            "4301/4301 [==============================] - 1969s 458ms/step - loss: 0.4665 - accuracy: 0.7789 - val_loss: 0.4302 - val_accuracy: 0.8028\n",
            "Epoch 5/5\n",
            "4301/4301 [==============================] - 1969s 458ms/step - loss: 0.4617 - accuracy: 0.7798 - val_loss: 0.4179 - val_accuracy: 0.8105\n"
          ]
        }
      ]
    },
    {
      "cell_type": "code",
      "source": [
        "model.save('bert-sentiment-model')"
      ],
      "metadata": {
        "colab": {
          "base_uri": "https://localhost:8080/"
        },
        "id": "9kGU_XaWONZT",
        "outputId": "454f5e8d-64bc-4f1d-e62e-d766be7035c3"
      },
      "execution_count": 73,
      "outputs": [
        {
          "output_type": "stream",
          "name": "stderr",
          "text": [
            "WARNING:absl:Found untraced functions such as embeddings_layer_call_fn, embeddings_layer_call_and_return_conditional_losses, encoder_layer_call_fn, encoder_layer_call_and_return_conditional_losses, pooler_layer_call_fn while saving (showing 5 of 420). These functions will not be directly callable after loading.\n"
          ]
        },
        {
          "output_type": "stream",
          "name": "stdout",
          "text": [
            "INFO:tensorflow:Assets written to: bert-sentiment-model/assets\n"
          ]
        },
        {
          "output_type": "stream",
          "name": "stderr",
          "text": [
            "INFO:tensorflow:Assets written to: bert-sentiment-model/assets\n"
          ]
        }
      ]
    },
    {
      "cell_type": "markdown",
      "source": [
        "## D) SENTIMENT ANALYSIS"
      ],
      "metadata": {
        "id": "tfSS2i2SadPr"
      }
    },
    {
      "cell_type": "markdown",
      "source": [
        "Our goal in this section will be to analyze the sentiment of all the reviews in the \"I Just Watched\" subreddit database that we created in Part 01.\n",
        "\n",
        "For this purpose we need to create a function that we will apply to each row of the `selftext` column of the database (i.e. the column that contains the review texts). This function will use our trained model to predict the sentiment of the review. Let's call this function `get_sentiment()`.\n",
        "\n",
        "Before doing that, however, we need another function that will preprocess the review text by tokenizing it (with the BERT tokenizer that we initialized above) and return the input tensors in the shape that our model expects. Let's define this `prep_data()` function here:"
      ],
      "metadata": {
        "id": "QkERQYe54hAD"
      }
    },
    {
      "cell_type": "code",
      "source": [
        "# remember that we initialized a BertTokenizer earlier\n",
        "\n",
        "def prep_data(text):\n",
        "\n",
        "  # get tokens\n",
        "  tokens = tokenizer.encode_plus(text,\n",
        "                                 max_length=512,\n",
        "                                 truncation=True, \n",
        "                                 padding='max_length',\n",
        "                                 add_special_tokens=True, \n",
        "                                 return_token_type_ids=False,\n",
        "                                 return_tensors='tf')\n",
        "  \n",
        "  # the tokenizer returns int32 tensors, \n",
        "  # we need to return float64, so we use tf.cast()\n",
        "  return {'input_ids': tf.cast(tokens['input_ids'], tf.float64),\n",
        "          'attention_mask': tf.cast(tokens['attention_mask'], tf.float64)}"
      ],
      "metadata": {
        "id": "R3fFhxMhYfNV"
      },
      "execution_count": 74,
      "outputs": []
    },
    {
      "cell_type": "markdown",
      "source": [
        "Now let's define the `get_sentiment()` function, which will call the above function and then feed its output into our model to predict the sentiment.\n",
        "\n",
        "Let's set it so it returns a tuple containing a sentiment lable ('POSITIVE' vs 'NEGATIVE') and the probability predicted by our model."
      ],
      "metadata": {
        "id": "Y7gYhAYc5ep8"
      }
    },
    {
      "cell_type": "code",
      "source": [
        "def get_sentiment(text):\n",
        "\n",
        "  # tokenize the text and prepare the input for the model\n",
        "  inputs = prep_data(text)\n",
        "\n",
        "  # predict the sentiment of the text with the model\n",
        "  # i.e. predict the probs of the two classes\n",
        "  probs = model.predict(inputs)[0]\n",
        "\n",
        "  # take the highest prob\n",
        "  sent_class = np.argmax(probs) # this returns the class 0 neg or 1 pos\n",
        "  sent_score = probs[sent_class] # this captures the score\n",
        "\n",
        "  if sent_class == 0:\n",
        "    sent_label = 'NEGATIVE'\n",
        "  else:\n",
        "    sent_label = 'POSITIVE'\n",
        "\n",
        "  # return\n",
        "  return (sent_label, sent_score)"
      ],
      "metadata": {
        "id": "JVVkMQyIMoVG"
      },
      "execution_count": 82,
      "outputs": []
    },
    {
      "cell_type": "markdown",
      "source": [
        "Now let's test it"
      ],
      "metadata": {
        "id": "D2dqB0a852PH"
      }
    },
    {
      "cell_type": "code",
      "source": [
        "test_review = \"I liked this movie very much\"\n",
        "get_sentiment(test_review)"
      ],
      "metadata": {
        "colab": {
          "base_uri": "https://localhost:8080/"
        },
        "id": "NJj_tDgIalm0",
        "outputId": "108d01b2-d366-4e4c-9e16-5602ba311c83"
      },
      "execution_count": 83,
      "outputs": [
        {
          "output_type": "execute_result",
          "data": {
            "text/plain": [
              "('POSITIVE', 0.8326956)"
            ]
          },
          "metadata": {},
          "execution_count": 83
        }
      ]
    },
    {
      "cell_type": "code",
      "source": [
        "test_review = \"This one sucked\"\n",
        "get_sentiment(test_review)"
      ],
      "metadata": {
        "colab": {
          "base_uri": "https://localhost:8080/"
        },
        "id": "fCBofvk31D1-",
        "outputId": "703d9dd0-56c8-4b41-987b-b5c2f30ca38a"
      },
      "execution_count": 84,
      "outputs": [
        {
          "output_type": "execute_result",
          "data": {
            "text/plain": [
              "('NEGATIVE', 0.7317641)"
            ]
          },
          "metadata": {},
          "execution_count": 84
        }
      ]
    },
    {
      "cell_type": "markdown",
      "source": [
        "Now we want to apply this to the \"I Just Watched\" dataset to find out the sentiment of each review"
      ],
      "metadata": {
        "id": "JAKpVmgQaSzt"
      }
    },
    {
      "cell_type": "markdown",
      "source": [
        "Let's load the dataset"
      ],
      "metadata": {
        "id": "-8ya0y86blM8"
      }
    },
    {
      "cell_type": "code",
      "source": [
        "url = \"https://drive.google.com/file/d/1rGO4DABtChIogEC8mn7EHpQiZotbapM1/view?usp=sharing\"\n",
        "file_id = url.split('/')[-2]\n",
        "dwn_url = 'https://drive.google.com/uc?export=download&id=' + file_id\n",
        "df_ijw = pd.read_csv(dwn_url, sep='|', encoding='utf-8')\n",
        "df_ijw"
      ],
      "metadata": {
        "colab": {
          "base_uri": "https://localhost:8080/",
          "height": 974
        },
        "id": "LRRlRCm5aax1",
        "outputId": "af894da5-7167-45db-aa4c-f13c8b87ffe3"
      },
      "execution_count": 87,
      "outputs": [
        {
          "output_type": "execute_result",
          "data": {
            "text/plain": [
              "          name   created_utc     subreddit  \\\n",
              "0    t3_vzu4cb  1.657906e+09  Ijustwatched   \n",
              "1    t3_vz90er  1.657840e+09  Ijustwatched   \n",
              "2    t3_vyxfuj  1.657810e+09  Ijustwatched   \n",
              "3    t3_vx6v7n  1.657617e+09  Ijustwatched   \n",
              "4    t3_vwmwkm  1.657558e+09  Ijustwatched   \n",
              "..         ...           ...           ...   \n",
              "992  t3_oj9jvl  1.626156e+09  Ijustwatched   \n",
              "993  t3_oinxgw  1.626083e+09  Ijustwatched   \n",
              "994  t3_oilr8d  1.626072e+09  Ijustwatched   \n",
              "995  t3_oiisdi  1.626059e+09  Ijustwatched   \n",
              "996  t3_oiia22  1.626058e+09  Ijustwatched   \n",
              "\n",
              "                                            title  \\\n",
              "0      IJW: Ang Babaeng Nawawala sa Sarili (2022)   \n",
              "1    Ijw: Paws of Fury: The Legend of Hank (2022)   \n",
              "2                            IJW: Kitty K7 (2022)   \n",
              "3                   IJW : Man from Toronto (2022)   \n",
              "4              IJW: Thor: Love and Thunder (2022)   \n",
              "..                                            ...   \n",
              "992                         IJW: Fired Up! [2009]   \n",
              "993                     IJW: The 8th Night (2021)   \n",
              "994            IJW: Diary of a Chambermaid [1964]   \n",
              "995                           IJW: Soldier (1998)   \n",
              "996                  IJW: The Tomorrow War (2021)   \n",
              "\n",
              "                                              selftext  upvote_ratio  ups  \\\n",
              "0    Source: [https://www.reeladvice.net/2022/07/an...          0.86  5.0   \n",
              "1    For a very little kid’s first parody/farce, it...          0.89  7.0   \n",
              "2    Source: [https://www.reeladvice.net/2022/07/ki...          1.00  1.0   \n",
              "3     Was a pretty dope movie, watched it online ye...          0.74  4.0   \n",
              "4    Source: [https://www.reeladvice.net/2022/07/th...          0.74  4.0   \n",
              "..                                                 ...           ...  ...   \n",
              "992  Fired Up! is a dramedy romcom type film about ...          1.00  4.0   \n",
              "993  Plot is confusing to say the least. It appears...          1.00  5.0   \n",
              "994  Diary of a Chambermaid is a drama mystery roma...          1.00  3.0   \n",
              "995  I remember watching this growing up. Good acti...          1.00  5.0   \n",
              "996  https://jwwreviews.blogspot.com/2021/07/the-to...          1.00  2.0   \n",
              "\n",
              "     downs  score                                             people  \n",
              "0      0.0    5.0       ['Albina', 'Ayanna Misola', 'Adrian Alandy']  \n",
              "1      0.0    7.0                      ['Marx', 'Mel Brooks', 'Mel']  \n",
              "2      0.0    1.0  ['Hana', 'Rose van Ginkel', 'Kitty K7', 'Joy A...  \n",
              "3      0.0    4.0                                   [\"Kevin Hart's\"]  \n",
              "4      0.0    4.0  ['Korg', 'Thor', 'Thors', 'Chris Hemsworth', '...  \n",
              "..     ...    ...                                                ...  \n",
              "992    0.0    4.0                                                 []  \n",
              "993    0.0    5.0                         ['Buddha', 'Kim Yoo Jung']  \n",
              "994    0.0    3.0                                                 []  \n",
              "995    0.0    5.0                                                 []  \n",
              "996    0.0    2.0  ['Pratt', 'Dan Forester', 'Dan', 'J.K. Simmons...  \n",
              "\n",
              "[997 rows x 10 columns]"
            ],
            "text/html": [
              "\n",
              "  <div id=\"df-39d76e33-4f9b-48f9-b7ff-6e6a87516e0e\">\n",
              "    <div class=\"colab-df-container\">\n",
              "      <div>\n",
              "<style scoped>\n",
              "    .dataframe tbody tr th:only-of-type {\n",
              "        vertical-align: middle;\n",
              "    }\n",
              "\n",
              "    .dataframe tbody tr th {\n",
              "        vertical-align: top;\n",
              "    }\n",
              "\n",
              "    .dataframe thead th {\n",
              "        text-align: right;\n",
              "    }\n",
              "</style>\n",
              "<table border=\"1\" class=\"dataframe\">\n",
              "  <thead>\n",
              "    <tr style=\"text-align: right;\">\n",
              "      <th></th>\n",
              "      <th>name</th>\n",
              "      <th>created_utc</th>\n",
              "      <th>subreddit</th>\n",
              "      <th>title</th>\n",
              "      <th>selftext</th>\n",
              "      <th>upvote_ratio</th>\n",
              "      <th>ups</th>\n",
              "      <th>downs</th>\n",
              "      <th>score</th>\n",
              "      <th>people</th>\n",
              "    </tr>\n",
              "  </thead>\n",
              "  <tbody>\n",
              "    <tr>\n",
              "      <th>0</th>\n",
              "      <td>t3_vzu4cb</td>\n",
              "      <td>1.657906e+09</td>\n",
              "      <td>Ijustwatched</td>\n",
              "      <td>IJW: Ang Babaeng Nawawala sa Sarili (2022)</td>\n",
              "      <td>Source: [https://www.reeladvice.net/2022/07/an...</td>\n",
              "      <td>0.86</td>\n",
              "      <td>5.0</td>\n",
              "      <td>0.0</td>\n",
              "      <td>5.0</td>\n",
              "      <td>['Albina', 'Ayanna Misola', 'Adrian Alandy']</td>\n",
              "    </tr>\n",
              "    <tr>\n",
              "      <th>1</th>\n",
              "      <td>t3_vz90er</td>\n",
              "      <td>1.657840e+09</td>\n",
              "      <td>Ijustwatched</td>\n",
              "      <td>Ijw: Paws of Fury: The Legend of Hank (2022)</td>\n",
              "      <td>For a very little kid’s first parody/farce, it...</td>\n",
              "      <td>0.89</td>\n",
              "      <td>7.0</td>\n",
              "      <td>0.0</td>\n",
              "      <td>7.0</td>\n",
              "      <td>['Marx', 'Mel Brooks', 'Mel']</td>\n",
              "    </tr>\n",
              "    <tr>\n",
              "      <th>2</th>\n",
              "      <td>t3_vyxfuj</td>\n",
              "      <td>1.657810e+09</td>\n",
              "      <td>Ijustwatched</td>\n",
              "      <td>IJW: Kitty K7 (2022)</td>\n",
              "      <td>Source: [https://www.reeladvice.net/2022/07/ki...</td>\n",
              "      <td>1.00</td>\n",
              "      <td>1.0</td>\n",
              "      <td>0.0</td>\n",
              "      <td>1.0</td>\n",
              "      <td>['Hana', 'Rose van Ginkel', 'Kitty K7', 'Joy A...</td>\n",
              "    </tr>\n",
              "    <tr>\n",
              "      <th>3</th>\n",
              "      <td>t3_vx6v7n</td>\n",
              "      <td>1.657617e+09</td>\n",
              "      <td>Ijustwatched</td>\n",
              "      <td>IJW : Man from Toronto (2022)</td>\n",
              "      <td>Was a pretty dope movie, watched it online ye...</td>\n",
              "      <td>0.74</td>\n",
              "      <td>4.0</td>\n",
              "      <td>0.0</td>\n",
              "      <td>4.0</td>\n",
              "      <td>[\"Kevin Hart's\"]</td>\n",
              "    </tr>\n",
              "    <tr>\n",
              "      <th>4</th>\n",
              "      <td>t3_vwmwkm</td>\n",
              "      <td>1.657558e+09</td>\n",
              "      <td>Ijustwatched</td>\n",
              "      <td>IJW: Thor: Love and Thunder (2022)</td>\n",
              "      <td>Source: [https://www.reeladvice.net/2022/07/th...</td>\n",
              "      <td>0.74</td>\n",
              "      <td>4.0</td>\n",
              "      <td>0.0</td>\n",
              "      <td>4.0</td>\n",
              "      <td>['Korg', 'Thor', 'Thors', 'Chris Hemsworth', '...</td>\n",
              "    </tr>\n",
              "    <tr>\n",
              "      <th>...</th>\n",
              "      <td>...</td>\n",
              "      <td>...</td>\n",
              "      <td>...</td>\n",
              "      <td>...</td>\n",
              "      <td>...</td>\n",
              "      <td>...</td>\n",
              "      <td>...</td>\n",
              "      <td>...</td>\n",
              "      <td>...</td>\n",
              "      <td>...</td>\n",
              "    </tr>\n",
              "    <tr>\n",
              "      <th>992</th>\n",
              "      <td>t3_oj9jvl</td>\n",
              "      <td>1.626156e+09</td>\n",
              "      <td>Ijustwatched</td>\n",
              "      <td>IJW: Fired Up! [2009]</td>\n",
              "      <td>Fired Up! is a dramedy romcom type film about ...</td>\n",
              "      <td>1.00</td>\n",
              "      <td>4.0</td>\n",
              "      <td>0.0</td>\n",
              "      <td>4.0</td>\n",
              "      <td>[]</td>\n",
              "    </tr>\n",
              "    <tr>\n",
              "      <th>993</th>\n",
              "      <td>t3_oinxgw</td>\n",
              "      <td>1.626083e+09</td>\n",
              "      <td>Ijustwatched</td>\n",
              "      <td>IJW: The 8th Night (2021)</td>\n",
              "      <td>Plot is confusing to say the least. It appears...</td>\n",
              "      <td>1.00</td>\n",
              "      <td>5.0</td>\n",
              "      <td>0.0</td>\n",
              "      <td>5.0</td>\n",
              "      <td>['Buddha', 'Kim Yoo Jung']</td>\n",
              "    </tr>\n",
              "    <tr>\n",
              "      <th>994</th>\n",
              "      <td>t3_oilr8d</td>\n",
              "      <td>1.626072e+09</td>\n",
              "      <td>Ijustwatched</td>\n",
              "      <td>IJW: Diary of a Chambermaid [1964]</td>\n",
              "      <td>Diary of a Chambermaid is a drama mystery roma...</td>\n",
              "      <td>1.00</td>\n",
              "      <td>3.0</td>\n",
              "      <td>0.0</td>\n",
              "      <td>3.0</td>\n",
              "      <td>[]</td>\n",
              "    </tr>\n",
              "    <tr>\n",
              "      <th>995</th>\n",
              "      <td>t3_oiisdi</td>\n",
              "      <td>1.626059e+09</td>\n",
              "      <td>Ijustwatched</td>\n",
              "      <td>IJW: Soldier (1998)</td>\n",
              "      <td>I remember watching this growing up. Good acti...</td>\n",
              "      <td>1.00</td>\n",
              "      <td>5.0</td>\n",
              "      <td>0.0</td>\n",
              "      <td>5.0</td>\n",
              "      <td>[]</td>\n",
              "    </tr>\n",
              "    <tr>\n",
              "      <th>996</th>\n",
              "      <td>t3_oiia22</td>\n",
              "      <td>1.626058e+09</td>\n",
              "      <td>Ijustwatched</td>\n",
              "      <td>IJW: The Tomorrow War (2021)</td>\n",
              "      <td>https://jwwreviews.blogspot.com/2021/07/the-to...</td>\n",
              "      <td>1.00</td>\n",
              "      <td>2.0</td>\n",
              "      <td>0.0</td>\n",
              "      <td>2.0</td>\n",
              "      <td>['Pratt', 'Dan Forester', 'Dan', 'J.K. Simmons...</td>\n",
              "    </tr>\n",
              "  </tbody>\n",
              "</table>\n",
              "<p>997 rows × 10 columns</p>\n",
              "</div>\n",
              "      <button class=\"colab-df-convert\" onclick=\"convertToInteractive('df-39d76e33-4f9b-48f9-b7ff-6e6a87516e0e')\"\n",
              "              title=\"Convert this dataframe to an interactive table.\"\n",
              "              style=\"display:none;\">\n",
              "        \n",
              "  <svg xmlns=\"http://www.w3.org/2000/svg\" height=\"24px\"viewBox=\"0 0 24 24\"\n",
              "       width=\"24px\">\n",
              "    <path d=\"M0 0h24v24H0V0z\" fill=\"none\"/>\n",
              "    <path d=\"M18.56 5.44l.94 2.06.94-2.06 2.06-.94-2.06-.94-.94-2.06-.94 2.06-2.06.94zm-11 1L8.5 8.5l.94-2.06 2.06-.94-2.06-.94L8.5 2.5l-.94 2.06-2.06.94zm10 10l.94 2.06.94-2.06 2.06-.94-2.06-.94-.94-2.06-.94 2.06-2.06.94z\"/><path d=\"M17.41 7.96l-1.37-1.37c-.4-.4-.92-.59-1.43-.59-.52 0-1.04.2-1.43.59L10.3 9.45l-7.72 7.72c-.78.78-.78 2.05 0 2.83L4 21.41c.39.39.9.59 1.41.59.51 0 1.02-.2 1.41-.59l7.78-7.78 2.81-2.81c.8-.78.8-2.07 0-2.86zM5.41 20L4 18.59l7.72-7.72 1.47 1.35L5.41 20z\"/>\n",
              "  </svg>\n",
              "      </button>\n",
              "      \n",
              "  <style>\n",
              "    .colab-df-container {\n",
              "      display:flex;\n",
              "      flex-wrap:wrap;\n",
              "      gap: 12px;\n",
              "    }\n",
              "\n",
              "    .colab-df-convert {\n",
              "      background-color: #E8F0FE;\n",
              "      border: none;\n",
              "      border-radius: 50%;\n",
              "      cursor: pointer;\n",
              "      display: none;\n",
              "      fill: #1967D2;\n",
              "      height: 32px;\n",
              "      padding: 0 0 0 0;\n",
              "      width: 32px;\n",
              "    }\n",
              "\n",
              "    .colab-df-convert:hover {\n",
              "      background-color: #E2EBFA;\n",
              "      box-shadow: 0px 1px 2px rgba(60, 64, 67, 0.3), 0px 1px 3px 1px rgba(60, 64, 67, 0.15);\n",
              "      fill: #174EA6;\n",
              "    }\n",
              "\n",
              "    [theme=dark] .colab-df-convert {\n",
              "      background-color: #3B4455;\n",
              "      fill: #D2E3FC;\n",
              "    }\n",
              "\n",
              "    [theme=dark] .colab-df-convert:hover {\n",
              "      background-color: #434B5C;\n",
              "      box-shadow: 0px 1px 3px 1px rgba(0, 0, 0, 0.15);\n",
              "      filter: drop-shadow(0px 1px 2px rgba(0, 0, 0, 0.3));\n",
              "      fill: #FFFFFF;\n",
              "    }\n",
              "  </style>\n",
              "\n",
              "      <script>\n",
              "        const buttonEl =\n",
              "          document.querySelector('#df-39d76e33-4f9b-48f9-b7ff-6e6a87516e0e button.colab-df-convert');\n",
              "        buttonEl.style.display =\n",
              "          google.colab.kernel.accessAllowed ? 'block' : 'none';\n",
              "\n",
              "        async function convertToInteractive(key) {\n",
              "          const element = document.querySelector('#df-39d76e33-4f9b-48f9-b7ff-6e6a87516e0e');\n",
              "          const dataTable =\n",
              "            await google.colab.kernel.invokeFunction('convertToInteractive',\n",
              "                                                     [key], {});\n",
              "          if (!dataTable) return;\n",
              "\n",
              "          const docLinkHtml = 'Like what you see? Visit the ' +\n",
              "            '<a target=\"_blank\" href=https://colab.research.google.com/notebooks/data_table.ipynb>data table notebook</a>'\n",
              "            + ' to learn more about interactive tables.';\n",
              "          element.innerHTML = '';\n",
              "          dataTable['output_type'] = 'display_data';\n",
              "          await google.colab.output.renderOutput(dataTable, element);\n",
              "          const docLink = document.createElement('div');\n",
              "          docLink.innerHTML = docLinkHtml;\n",
              "          element.appendChild(docLink);\n",
              "        }\n",
              "      </script>\n",
              "    </div>\n",
              "  </div>\n",
              "  "
            ]
          },
          "metadata": {},
          "execution_count": 87
        }
      ]
    },
    {
      "cell_type": "markdown",
      "source": [
        "Let's create a dedicated column and populate it"
      ],
      "metadata": {
        "id": "Ge4OqbHXbnrm"
      }
    },
    {
      "cell_type": "code",
      "source": [
        "df_ijw['sentiment'] = df_ijw['selftext'].apply(get_sentiment)"
      ],
      "metadata": {
        "id": "sGZ5WORhbm73"
      },
      "execution_count": 88,
      "outputs": []
    },
    {
      "cell_type": "code",
      "source": [
        "df_ijw"
      ],
      "metadata": {
        "colab": {
          "base_uri": "https://localhost:8080/",
          "height": 974
        },
        "id": "kJJnWs4E1r2F",
        "outputId": "4d6cf022-f4bc-4129-f5be-3da8b0e65815"
      },
      "execution_count": 89,
      "outputs": [
        {
          "output_type": "execute_result",
          "data": {
            "text/plain": [
              "          name   created_utc     subreddit  \\\n",
              "0    t3_vzu4cb  1.657906e+09  Ijustwatched   \n",
              "1    t3_vz90er  1.657840e+09  Ijustwatched   \n",
              "2    t3_vyxfuj  1.657810e+09  Ijustwatched   \n",
              "3    t3_vx6v7n  1.657617e+09  Ijustwatched   \n",
              "4    t3_vwmwkm  1.657558e+09  Ijustwatched   \n",
              "..         ...           ...           ...   \n",
              "992  t3_oj9jvl  1.626156e+09  Ijustwatched   \n",
              "993  t3_oinxgw  1.626083e+09  Ijustwatched   \n",
              "994  t3_oilr8d  1.626072e+09  Ijustwatched   \n",
              "995  t3_oiisdi  1.626059e+09  Ijustwatched   \n",
              "996  t3_oiia22  1.626058e+09  Ijustwatched   \n",
              "\n",
              "                                            title  \\\n",
              "0      IJW: Ang Babaeng Nawawala sa Sarili (2022)   \n",
              "1    Ijw: Paws of Fury: The Legend of Hank (2022)   \n",
              "2                            IJW: Kitty K7 (2022)   \n",
              "3                   IJW : Man from Toronto (2022)   \n",
              "4              IJW: Thor: Love and Thunder (2022)   \n",
              "..                                            ...   \n",
              "992                         IJW: Fired Up! [2009]   \n",
              "993                     IJW: The 8th Night (2021)   \n",
              "994            IJW: Diary of a Chambermaid [1964]   \n",
              "995                           IJW: Soldier (1998)   \n",
              "996                  IJW: The Tomorrow War (2021)   \n",
              "\n",
              "                                              selftext  upvote_ratio  ups  \\\n",
              "0    Source: [https://www.reeladvice.net/2022/07/an...          0.86  5.0   \n",
              "1    For a very little kid’s first parody/farce, it...          0.89  7.0   \n",
              "2    Source: [https://www.reeladvice.net/2022/07/ki...          1.00  1.0   \n",
              "3     Was a pretty dope movie, watched it online ye...          0.74  4.0   \n",
              "4    Source: [https://www.reeladvice.net/2022/07/th...          0.74  4.0   \n",
              "..                                                 ...           ...  ...   \n",
              "992  Fired Up! is a dramedy romcom type film about ...          1.00  4.0   \n",
              "993  Plot is confusing to say the least. It appears...          1.00  5.0   \n",
              "994  Diary of a Chambermaid is a drama mystery roma...          1.00  3.0   \n",
              "995  I remember watching this growing up. Good acti...          1.00  5.0   \n",
              "996  https://jwwreviews.blogspot.com/2021/07/the-to...          1.00  2.0   \n",
              "\n",
              "     downs  score                                             people  \\\n",
              "0      0.0    5.0       ['Albina', 'Ayanna Misola', 'Adrian Alandy']   \n",
              "1      0.0    7.0                      ['Marx', 'Mel Brooks', 'Mel']   \n",
              "2      0.0    1.0  ['Hana', 'Rose van Ginkel', 'Kitty K7', 'Joy A...   \n",
              "3      0.0    4.0                                   [\"Kevin Hart's\"]   \n",
              "4      0.0    4.0  ['Korg', 'Thor', 'Thors', 'Chris Hemsworth', '...   \n",
              "..     ...    ...                                                ...   \n",
              "992    0.0    4.0                                                 []   \n",
              "993    0.0    5.0                         ['Buddha', 'Kim Yoo Jung']   \n",
              "994    0.0    3.0                                                 []   \n",
              "995    0.0    5.0                                                 []   \n",
              "996    0.0    2.0  ['Pratt', 'Dan Forester', 'Dan', 'J.K. Simmons...   \n",
              "\n",
              "                  sentiment  \n",
              "0     (POSITIVE, 0.5522495)  \n",
              "1     (POSITIVE, 0.5305168)  \n",
              "2    (POSITIVE, 0.84092736)  \n",
              "3     (NEGATIVE, 0.5498567)  \n",
              "4     (NEGATIVE, 0.5038758)  \n",
              "..                      ...  \n",
              "992   (NEGATIVE, 0.5597052)  \n",
              "993  (POSITIVE, 0.76196575)  \n",
              "994   (POSITIVE, 0.5740766)  \n",
              "995   (NEGATIVE, 0.5029748)  \n",
              "996   (POSITIVE, 0.7496581)  \n",
              "\n",
              "[997 rows x 11 columns]"
            ],
            "text/html": [
              "\n",
              "  <div id=\"df-4e457742-6b10-4156-97e4-6002a7fd9dc4\">\n",
              "    <div class=\"colab-df-container\">\n",
              "      <div>\n",
              "<style scoped>\n",
              "    .dataframe tbody tr th:only-of-type {\n",
              "        vertical-align: middle;\n",
              "    }\n",
              "\n",
              "    .dataframe tbody tr th {\n",
              "        vertical-align: top;\n",
              "    }\n",
              "\n",
              "    .dataframe thead th {\n",
              "        text-align: right;\n",
              "    }\n",
              "</style>\n",
              "<table border=\"1\" class=\"dataframe\">\n",
              "  <thead>\n",
              "    <tr style=\"text-align: right;\">\n",
              "      <th></th>\n",
              "      <th>name</th>\n",
              "      <th>created_utc</th>\n",
              "      <th>subreddit</th>\n",
              "      <th>title</th>\n",
              "      <th>selftext</th>\n",
              "      <th>upvote_ratio</th>\n",
              "      <th>ups</th>\n",
              "      <th>downs</th>\n",
              "      <th>score</th>\n",
              "      <th>people</th>\n",
              "      <th>sentiment</th>\n",
              "    </tr>\n",
              "  </thead>\n",
              "  <tbody>\n",
              "    <tr>\n",
              "      <th>0</th>\n",
              "      <td>t3_vzu4cb</td>\n",
              "      <td>1.657906e+09</td>\n",
              "      <td>Ijustwatched</td>\n",
              "      <td>IJW: Ang Babaeng Nawawala sa Sarili (2022)</td>\n",
              "      <td>Source: [https://www.reeladvice.net/2022/07/an...</td>\n",
              "      <td>0.86</td>\n",
              "      <td>5.0</td>\n",
              "      <td>0.0</td>\n",
              "      <td>5.0</td>\n",
              "      <td>['Albina', 'Ayanna Misola', 'Adrian Alandy']</td>\n",
              "      <td>(POSITIVE, 0.5522495)</td>\n",
              "    </tr>\n",
              "    <tr>\n",
              "      <th>1</th>\n",
              "      <td>t3_vz90er</td>\n",
              "      <td>1.657840e+09</td>\n",
              "      <td>Ijustwatched</td>\n",
              "      <td>Ijw: Paws of Fury: The Legend of Hank (2022)</td>\n",
              "      <td>For a very little kid’s first parody/farce, it...</td>\n",
              "      <td>0.89</td>\n",
              "      <td>7.0</td>\n",
              "      <td>0.0</td>\n",
              "      <td>7.0</td>\n",
              "      <td>['Marx', 'Mel Brooks', 'Mel']</td>\n",
              "      <td>(POSITIVE, 0.5305168)</td>\n",
              "    </tr>\n",
              "    <tr>\n",
              "      <th>2</th>\n",
              "      <td>t3_vyxfuj</td>\n",
              "      <td>1.657810e+09</td>\n",
              "      <td>Ijustwatched</td>\n",
              "      <td>IJW: Kitty K7 (2022)</td>\n",
              "      <td>Source: [https://www.reeladvice.net/2022/07/ki...</td>\n",
              "      <td>1.00</td>\n",
              "      <td>1.0</td>\n",
              "      <td>0.0</td>\n",
              "      <td>1.0</td>\n",
              "      <td>['Hana', 'Rose van Ginkel', 'Kitty K7', 'Joy A...</td>\n",
              "      <td>(POSITIVE, 0.84092736)</td>\n",
              "    </tr>\n",
              "    <tr>\n",
              "      <th>3</th>\n",
              "      <td>t3_vx6v7n</td>\n",
              "      <td>1.657617e+09</td>\n",
              "      <td>Ijustwatched</td>\n",
              "      <td>IJW : Man from Toronto (2022)</td>\n",
              "      <td>Was a pretty dope movie, watched it online ye...</td>\n",
              "      <td>0.74</td>\n",
              "      <td>4.0</td>\n",
              "      <td>0.0</td>\n",
              "      <td>4.0</td>\n",
              "      <td>[\"Kevin Hart's\"]</td>\n",
              "      <td>(NEGATIVE, 0.5498567)</td>\n",
              "    </tr>\n",
              "    <tr>\n",
              "      <th>4</th>\n",
              "      <td>t3_vwmwkm</td>\n",
              "      <td>1.657558e+09</td>\n",
              "      <td>Ijustwatched</td>\n",
              "      <td>IJW: Thor: Love and Thunder (2022)</td>\n",
              "      <td>Source: [https://www.reeladvice.net/2022/07/th...</td>\n",
              "      <td>0.74</td>\n",
              "      <td>4.0</td>\n",
              "      <td>0.0</td>\n",
              "      <td>4.0</td>\n",
              "      <td>['Korg', 'Thor', 'Thors', 'Chris Hemsworth', '...</td>\n",
              "      <td>(NEGATIVE, 0.5038758)</td>\n",
              "    </tr>\n",
              "    <tr>\n",
              "      <th>...</th>\n",
              "      <td>...</td>\n",
              "      <td>...</td>\n",
              "      <td>...</td>\n",
              "      <td>...</td>\n",
              "      <td>...</td>\n",
              "      <td>...</td>\n",
              "      <td>...</td>\n",
              "      <td>...</td>\n",
              "      <td>...</td>\n",
              "      <td>...</td>\n",
              "      <td>...</td>\n",
              "    </tr>\n",
              "    <tr>\n",
              "      <th>992</th>\n",
              "      <td>t3_oj9jvl</td>\n",
              "      <td>1.626156e+09</td>\n",
              "      <td>Ijustwatched</td>\n",
              "      <td>IJW: Fired Up! [2009]</td>\n",
              "      <td>Fired Up! is a dramedy romcom type film about ...</td>\n",
              "      <td>1.00</td>\n",
              "      <td>4.0</td>\n",
              "      <td>0.0</td>\n",
              "      <td>4.0</td>\n",
              "      <td>[]</td>\n",
              "      <td>(NEGATIVE, 0.5597052)</td>\n",
              "    </tr>\n",
              "    <tr>\n",
              "      <th>993</th>\n",
              "      <td>t3_oinxgw</td>\n",
              "      <td>1.626083e+09</td>\n",
              "      <td>Ijustwatched</td>\n",
              "      <td>IJW: The 8th Night (2021)</td>\n",
              "      <td>Plot is confusing to say the least. It appears...</td>\n",
              "      <td>1.00</td>\n",
              "      <td>5.0</td>\n",
              "      <td>0.0</td>\n",
              "      <td>5.0</td>\n",
              "      <td>['Buddha', 'Kim Yoo Jung']</td>\n",
              "      <td>(POSITIVE, 0.76196575)</td>\n",
              "    </tr>\n",
              "    <tr>\n",
              "      <th>994</th>\n",
              "      <td>t3_oilr8d</td>\n",
              "      <td>1.626072e+09</td>\n",
              "      <td>Ijustwatched</td>\n",
              "      <td>IJW: Diary of a Chambermaid [1964]</td>\n",
              "      <td>Diary of a Chambermaid is a drama mystery roma...</td>\n",
              "      <td>1.00</td>\n",
              "      <td>3.0</td>\n",
              "      <td>0.0</td>\n",
              "      <td>3.0</td>\n",
              "      <td>[]</td>\n",
              "      <td>(POSITIVE, 0.5740766)</td>\n",
              "    </tr>\n",
              "    <tr>\n",
              "      <th>995</th>\n",
              "      <td>t3_oiisdi</td>\n",
              "      <td>1.626059e+09</td>\n",
              "      <td>Ijustwatched</td>\n",
              "      <td>IJW: Soldier (1998)</td>\n",
              "      <td>I remember watching this growing up. Good acti...</td>\n",
              "      <td>1.00</td>\n",
              "      <td>5.0</td>\n",
              "      <td>0.0</td>\n",
              "      <td>5.0</td>\n",
              "      <td>[]</td>\n",
              "      <td>(NEGATIVE, 0.5029748)</td>\n",
              "    </tr>\n",
              "    <tr>\n",
              "      <th>996</th>\n",
              "      <td>t3_oiia22</td>\n",
              "      <td>1.626058e+09</td>\n",
              "      <td>Ijustwatched</td>\n",
              "      <td>IJW: The Tomorrow War (2021)</td>\n",
              "      <td>https://jwwreviews.blogspot.com/2021/07/the-to...</td>\n",
              "      <td>1.00</td>\n",
              "      <td>2.0</td>\n",
              "      <td>0.0</td>\n",
              "      <td>2.0</td>\n",
              "      <td>['Pratt', 'Dan Forester', 'Dan', 'J.K. Simmons...</td>\n",
              "      <td>(POSITIVE, 0.7496581)</td>\n",
              "    </tr>\n",
              "  </tbody>\n",
              "</table>\n",
              "<p>997 rows × 11 columns</p>\n",
              "</div>\n",
              "      <button class=\"colab-df-convert\" onclick=\"convertToInteractive('df-4e457742-6b10-4156-97e4-6002a7fd9dc4')\"\n",
              "              title=\"Convert this dataframe to an interactive table.\"\n",
              "              style=\"display:none;\">\n",
              "        \n",
              "  <svg xmlns=\"http://www.w3.org/2000/svg\" height=\"24px\"viewBox=\"0 0 24 24\"\n",
              "       width=\"24px\">\n",
              "    <path d=\"M0 0h24v24H0V0z\" fill=\"none\"/>\n",
              "    <path d=\"M18.56 5.44l.94 2.06.94-2.06 2.06-.94-2.06-.94-.94-2.06-.94 2.06-2.06.94zm-11 1L8.5 8.5l.94-2.06 2.06-.94-2.06-.94L8.5 2.5l-.94 2.06-2.06.94zm10 10l.94 2.06.94-2.06 2.06-.94-2.06-.94-.94-2.06-.94 2.06-2.06.94z\"/><path d=\"M17.41 7.96l-1.37-1.37c-.4-.4-.92-.59-1.43-.59-.52 0-1.04.2-1.43.59L10.3 9.45l-7.72 7.72c-.78.78-.78 2.05 0 2.83L4 21.41c.39.39.9.59 1.41.59.51 0 1.02-.2 1.41-.59l7.78-7.78 2.81-2.81c.8-.78.8-2.07 0-2.86zM5.41 20L4 18.59l7.72-7.72 1.47 1.35L5.41 20z\"/>\n",
              "  </svg>\n",
              "      </button>\n",
              "      \n",
              "  <style>\n",
              "    .colab-df-container {\n",
              "      display:flex;\n",
              "      flex-wrap:wrap;\n",
              "      gap: 12px;\n",
              "    }\n",
              "\n",
              "    .colab-df-convert {\n",
              "      background-color: #E8F0FE;\n",
              "      border: none;\n",
              "      border-radius: 50%;\n",
              "      cursor: pointer;\n",
              "      display: none;\n",
              "      fill: #1967D2;\n",
              "      height: 32px;\n",
              "      padding: 0 0 0 0;\n",
              "      width: 32px;\n",
              "    }\n",
              "\n",
              "    .colab-df-convert:hover {\n",
              "      background-color: #E2EBFA;\n",
              "      box-shadow: 0px 1px 2px rgba(60, 64, 67, 0.3), 0px 1px 3px 1px rgba(60, 64, 67, 0.15);\n",
              "      fill: #174EA6;\n",
              "    }\n",
              "\n",
              "    [theme=dark] .colab-df-convert {\n",
              "      background-color: #3B4455;\n",
              "      fill: #D2E3FC;\n",
              "    }\n",
              "\n",
              "    [theme=dark] .colab-df-convert:hover {\n",
              "      background-color: #434B5C;\n",
              "      box-shadow: 0px 1px 3px 1px rgba(0, 0, 0, 0.15);\n",
              "      filter: drop-shadow(0px 1px 2px rgba(0, 0, 0, 0.3));\n",
              "      fill: #FFFFFF;\n",
              "    }\n",
              "  </style>\n",
              "\n",
              "      <script>\n",
              "        const buttonEl =\n",
              "          document.querySelector('#df-4e457742-6b10-4156-97e4-6002a7fd9dc4 button.colab-df-convert');\n",
              "        buttonEl.style.display =\n",
              "          google.colab.kernel.accessAllowed ? 'block' : 'none';\n",
              "\n",
              "        async function convertToInteractive(key) {\n",
              "          const element = document.querySelector('#df-4e457742-6b10-4156-97e4-6002a7fd9dc4');\n",
              "          const dataTable =\n",
              "            await google.colab.kernel.invokeFunction('convertToInteractive',\n",
              "                                                     [key], {});\n",
              "          if (!dataTable) return;\n",
              "\n",
              "          const docLinkHtml = 'Like what you see? Visit the ' +\n",
              "            '<a target=\"_blank\" href=https://colab.research.google.com/notebooks/data_table.ipynb>data table notebook</a>'\n",
              "            + ' to learn more about interactive tables.';\n",
              "          element.innerHTML = '';\n",
              "          dataTable['output_type'] = 'display_data';\n",
              "          await google.colab.output.renderOutput(dataTable, element);\n",
              "          const docLink = document.createElement('div');\n",
              "          docLink.innerHTML = docLinkHtml;\n",
              "          element.appendChild(docLink);\n",
              "        }\n",
              "      </script>\n",
              "    </div>\n",
              "  </div>\n",
              "  "
            ]
          },
          "metadata": {},
          "execution_count": 89
        }
      ]
    },
    {
      "cell_type": "markdown",
      "source": [
        "Let us save the dataset (which now includes the sentiment column) into a CSV file for later use"
      ],
      "metadata": {
        "id": "Ojj3BT3dhb5_"
      }
    },
    {
      "cell_type": "code",
      "source": [
        "df_ijw.to_csv('ijw_subreddit_ner_sent_bert.csv', sep='|', encoding='utf-8', index=False)"
      ],
      "metadata": {
        "id": "SPAjsmQdhgUy"
      },
      "execution_count": 96,
      "outputs": []
    },
    {
      "cell_type": "code",
      "source": [
        "!ls"
      ],
      "metadata": {
        "colab": {
          "base_uri": "https://localhost:8080/"
        },
        "id": "Ox_hoAaih3Yf",
        "outputId": "39ebc402-9aa2-489f-cedb-397ec9ae1fe4"
      },
      "execution_count": 98,
      "outputs": [
        {
          "output_type": "stream",
          "name": "stdout",
          "text": [
            "bert-sentiment-model\t\t movie-labels.npy  movie-xmask.npy  test_ds\n",
            "ijw_subreddit_ner_sent_bert.csv  movie-xids.npy    sample_data\t    train_ds\n"
          ]
        }
      ]
    }
  ]
}